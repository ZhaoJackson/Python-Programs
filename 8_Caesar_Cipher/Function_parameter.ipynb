{
 "cells": [
  {
   "cell_type": "markdown",
   "metadata": {},
   "source": [
    "### Function with input variable\n",
    "#### Review\n",
    "- Create a function called greet().\n",
    "- Write 3 print statements inside the function.\n",
    "- Call the greet() function and run your code."
   ]
  },
  {
   "cell_type": "code",
   "execution_count": 1,
   "metadata": {},
   "outputs": [
    {
     "name": "stdout",
     "output_type": "stream",
     "text": [
      "Hello\n",
      "World\n"
     ]
    }
   ],
   "source": [
    "def greet():\n",
    "    print(\"Hello\")\n",
    "    print(\"World\")\n",
    "greet()"
   ]
  },
  {
   "cell_type": "markdown",
   "metadata": {},
   "source": [
    "### Inputs\n",
    "1. By adding a variable name inside the parentheses when we create (define) a new function, it allows that function to take inputs when called.\n",
    "2. That means we can modify how the function behaves each time by passing in different inputs.\n",
    "\n",
    "#### Inputs are Variables\n",
    "- When you create a function with inputs, you are defining a variable name that will be given to the data that is passed in.\n",
    "- The name of the input variable, e.g. name in this code here: def greet(name): is called the parameter.\n",
    "- The value of the value of the input variable, e.g. Angela when you call the previous greet function: greet(\"Angela\") is called the argument.\n",
    "\n",
    "#### Process\n",
    "1. when we call the function with defined value, it will pass to the above function.\n",
    "2. the input variable name is called parameter \n",
    "3. the actual defined value is called argument"
   ]
  },
  {
   "cell_type": "code",
   "execution_count": null,
   "metadata": {},
   "outputs": [
    {
     "name": "stdout",
     "output_type": "stream",
     "text": [
      "Hey! Tommy\n"
     ]
    }
   ],
   "source": [
    "# Creating the function\n",
    "def myFunction(input): # input is called parameter, which also functions as variable\n",
    "    print(f\"Hey! {input}\")\n",
    "\n",
    "# Using the function\n",
    "myFunction(\"Tommy\") # ==> \"Tommy\" is called argument"
   ]
  },
  {
   "cell_type": "markdown",
   "metadata": {},
   "source": [
    "### Task 1. Life in Weeks\n",
    "- Create a function called life_in_weeks() using maths and f-Strings that tells us how many weeks we have left, if we live until 90 years old.\n",
    "- It will take your current age as the input and output a message with our time left in this format:\n",
    "- You have x weeks left.\n",
    "- Where x is replaced with the actual calculated number of weeks the input age has left until age 90.\n",
    "- **Warning** The function must be called life_in_weeks for the tests to pass. Also the output must have the same punctuation and spelling as the example. Including the full stop!"
   ]
  },
  {
   "cell_type": "code",
   "execution_count": null,
   "metadata": {},
   "outputs": [
    {
     "name": "stdout",
     "output_type": "stream",
     "text": [
      "You have 3380 weeks left\n"
     ]
    }
   ],
   "source": [
    "def life_in_weeks(age):\n",
    "    total_week = 90 * 52 # total weeks in 90-year-old span\n",
    "    current_week = age * 52\n",
    "    rest_week = total_week - current_week\n",
    "    print(f\"You have {rest_week} weeks left\")\n",
    "life_in_weeks(25)"
   ]
  },
  {
   "cell_type": "markdown",
   "metadata": {},
   "source": [
    "### Function with **multiple inputs**\n",
    "1. **Positional Argument**\n",
    "- positional argument, the input variable will default the **actual defined ordered of arguments**\n",
    "- be sure the **positional argument is correct**\n",
    "\n",
    "2. **Keyword Argument**\n",
    "- You can **use keywords when you provide the arguments** when you call a function so that there is less confusion which value is assigned to which input parameter."
   ]
  },
  {
   "cell_type": "code",
   "execution_count": null,
   "metadata": {},
   "outputs": [
    {
     "name": "stdout",
     "output_type": "stream",
     "text": [
      "Hello, my name is Jackson\n",
      "And I am from China\n",
      "Hello, my name is Jackson\n",
      "And I am from China\n"
     ]
    }
   ],
   "source": [
    "# function with more than 1 inputs\n",
    "def greet_with(name, location):\n",
    "    print(f\"Hello, my name is {name}\")\n",
    "    print(f\"And I am from {location}\")\n",
    "\n",
    "# positional argument\n",
    "greet_with('Jackson', 'China') # make sure the order is right\n",
    "\n",
    "# keyword argument\n",
    "greet_with(name = 'Jackson', location = 'China') # each argument is tagged with the variable"
   ]
  },
  {
   "cell_type": "markdown",
   "metadata": {},
   "source": [
    "### Task 2. Love Calculator\n",
    "- You are going to write a function called calculate_love_score() that tests the compatibility between two names.  To work out the love score between two people: \n",
    "\n",
    "1. Take both people's names and check for the number of times the letters in the word TRUE occurs.   \n",
    "\n",
    "2. Then check for the number of times the letters in the word LOVE occurs.   \n",
    "\n",
    "3. Then combine these numbers to make a 2 digit number and print it out. "
   ]
  },
  {
   "cell_type": "code",
   "execution_count": null,
   "metadata": {},
   "outputs": [
    {
     "name": "stdout",
     "output_type": "stream",
     "text": [
      "Your love score is 21\n"
     ]
    }
   ],
   "source": [
    "def calculate_love_score(name_1, name_2):\n",
    "\n",
    "    # set the comparison letters\n",
    "    Letter1 = \"TRUE\"\n",
    "    Letter2 = \"LOVE\"\n",
    "\n",
    "    # standardize the name for comparison\n",
    "    name_1 = name_1.upper()\n",
    "    name_2 = name_2.upper()\n",
    "\n",
    "    # initialize the number for both comparison and for later addition\n",
    "    num_1 = 0\n",
    "    num_2 = 0\n",
    "\n",
    "    # match the letter in both names to the comparison letters respectively\n",
    "    for letter in name_1 + name_2: # use both if statement for they are independent checkers\n",
    "        if letter in Letter1:\n",
    "            num_1 += 1\n",
    "        if letter in Letter2:\n",
    "            num_2 += 1\n",
    "\n",
    "    # convert the counter into string and concatenate them then convert to integer\n",
    "    score = str(num_1) + str(num_2)\n",
    "    love_score = int(score)\n",
    "    print(f\"Your love score is {love_score}\")\n",
    "\n",
    "calculate_love_score(\"Jackson\", \"Barry\")"
   ]
  },
  {
   "cell_type": "markdown",
   "metadata": {},
   "source": [
    "### Caesar Cipher 1"
   ]
  },
  {
   "cell_type": "code",
   "execution_count": 35,
   "metadata": {},
   "outputs": [],
   "source": [
    "alphabet = ['a', 'b', 'c', 'd', 'e', 'f', 'g', 'h', 'i', 'j', 'k', 'l', 'm', 'n', 'o', 'p', 'q', 'r', 's', 't', 'u', 'v', 'w', 'x', 'y', 'z']\n",
    "\n",
    "direction = input(\"Type 'encode' to encrypt, type 'decode' to decrypt:\\n\").lower()\n",
    "text = input(\"Type your message:\\n\").lower()\n",
    "shift = int(input(\"Type the shift number:\\n\"))"
   ]
  },
  {
   "cell_type": "markdown",
   "metadata": {},
   "source": [
    "#### TODO-1: Create a function called encrypt() that takes original_text and shift_amount as 2 inputs."
   ]
  },
  {
   "cell_type": "code",
   "execution_count": null,
   "metadata": {},
   "outputs": [],
   "source": [
    "def encrypt(original_text, shift_amount):"
   ]
  },
  {
   "cell_type": "markdown",
   "metadata": {},
   "source": [
    "#### TODO-2:\n",
    "- Inside the 'encrypt' function, shift each letter of the original_text forwards in the alphabet by the shift_amount and print the encrypted text.\n",
    "- You can use the built-in Python index() function to find out the position of an item in a list. e.g.\n",
    "- fruits = [\"Apple\", \"Pear\", \"Orange\"]\n",
    "- fruits.index(\"Pear\") #1\n",
    "- e.g. If we have following values:\n",
    "- plain_text = \"hello\"\n",
    "- shift_amount = 1\n",
    "- The final encrypted output should be:\n",
    "- Here is the encoded result: ifmmp\n",
    "- Where each of the letters of 'hello' is shifted up by 1."
   ]
  },
  {
   "cell_type": "code",
   "execution_count": null,
   "metadata": {},
   "outputs": [
    {
     "name": "stdout",
     "output_type": "stream",
     "text": [
      "pmttw\n"
     ]
    }
   ],
   "source": [
    "def encrypt(original_text, shift_amount):\n",
    "    encrypt_text = ''\n",
    "    for letter in original_text:\n",
    "        shift_position = alphabet.index(letter) + shift_amount # make sure each letter in the list can be shifted at the same amount in their corresponding positions\n",
    "        shift_position %= len(alphabet) # make sure the letters in the end can shift to the beginning\n",
    "        encrypt_text += alphabet[shift_position] # use '+=' to append each shifted letter to the empty string\n",
    "    print(encrypt_text)\n",
    "\n",
    "encrypt(original_text = text, shift_amount = shift)"
   ]
  },
  {
   "cell_type": "markdown",
   "metadata": {},
   "source": [
    "### Caesar Cipher 2"
   ]
  },
  {
   "cell_type": "markdown",
   "metadata": {},
   "source": [
    "#### To-Do 1:\n",
    "\n",
    "- Create a function called decrypt() that takes original_text and shift_amount as 2 inputs.\n",
    "- Inside the decrypt() function, shift each letter of the original_text forwards in the alphabet backwards by the shift_amount and print the decrypted text."
   ]
  },
  {
   "cell_type": "code",
   "execution_count": 34,
   "metadata": {},
   "outputs": [
    {
     "name": "stdout",
     "output_type": "stream",
     "text": [
      "zwddg\n"
     ]
    }
   ],
   "source": [
    "def decrypt(original_text, shift_amount):\n",
    "    decrypt_text = ''\n",
    "    for letter in original_text:\n",
    "        shift_position = alphabet.index(letter) - shift_amount # use '-' to restore the encrypted letter to the original word\n",
    "        shift_position %= len(alphabet)\n",
    "        decrypt_text += alphabet[shift_position]\n",
    "    print(decrypt_text)\n",
    "\n",
    "decrypt(original_text = text, shift_amount = shift)"
   ]
  },
  {
   "cell_type": "markdown",
   "metadata": {},
   "source": [
    "#### TODO-2:\n",
    "- Combine the encrypt() and decrypt() functions into a single function called caesar().\n",
    "- Use the value of the user chosen direction variable to determine which functionality to use.\n",
    "- call the caesar function instead of encrypt/decrypt and pass in all three variables direction/text/shift."
   ]
  },
  {
   "cell_type": "code",
   "execution_count": null,
   "metadata": {},
   "outputs": [
    {
     "name": "stdout",
     "output_type": "stream",
     "text": [
      "Here is the decode result: gfkmn.\n"
     ]
    }
   ],
   "source": [
    "def caesar(original_text, shift_amount, direction): # add direction parameter to indicate the direction of encode or decode\n",
    "    output_text = ''\n",
    "    if direction == 'decode': # make sure it keep outside the for loop for it will flip the sign(-) back and forth for each iteration\n",
    "        shift_amount *= -1 # if user use decode, we can make sure later shift position operation to shift rightward (+) or leftward(-)\n",
    "    else:\n",
    "        shift_amount *= 1 # if use encode, then rightwards\n",
    "    for letter in original_text:\n",
    "        shift_position = alphabet.index(letter) + shift_amount # here, shift_amount has been proceed with sign\n",
    "        shift_position %= len(alphabet)\n",
    "        output_text += alphabet[shift_position]\n",
    "    print(f\"Here is the {direction} result: {output_text}.\")\n",
    "\n",
    "caesar(original_text = text, shift_amount = shift, direction = direction)"
   ]
  }
 ],
 "metadata": {
  "kernelspec": {
   "display_name": "ollama_env",
   "language": "python",
   "name": "python3"
  },
  "language_info": {
   "codemirror_mode": {
    "name": "ipython",
    "version": 3
   },
   "file_extension": ".py",
   "mimetype": "text/x-python",
   "name": "python",
   "nbconvert_exporter": "python",
   "pygments_lexer": "ipython3",
   "version": "3.9.19"
  }
 },
 "nbformat": 4,
 "nbformat_minor": 2
}
