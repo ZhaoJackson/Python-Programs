{
 "cells": [
  {
   "cell_type": "markdown",
   "metadata": {},
   "source": [
    "### TODO-1\n",
    "- Randomly choose a word from the word_list and assign it to a variable called chosen_word. Then print it."
   ]
  },
  {
   "cell_type": "code",
   "execution_count": 1,
   "metadata": {},
   "outputs": [],
   "source": [
    "word_list = [\"aardvark\", \"baboon\", \"camel\"]"
   ]
  },
  {
   "cell_type": "code",
   "execution_count": 11,
   "metadata": {},
   "outputs": [
    {
     "name": "stdout",
     "output_type": "stream",
     "text": [
      "aardvark\n"
     ]
    }
   ],
   "source": [
    "import random\n",
    "chosen_word = random.choice(word_list)\n",
    "print(chosen_word)"
   ]
  },
  {
   "cell_type": "markdown",
   "metadata": {},
   "source": [
    "### TODO-2\n",
    "- Ask the user to guess a letter and assign their answer to a variable called guess. Make the String stored in guess lowercase."
   ]
  },
  {
   "cell_type": "code",
   "execution_count": 15,
   "metadata": {},
   "outputs": [
    {
     "name": "stdout",
     "output_type": "stream",
     "text": [
      "a\n"
     ]
    }
   ],
   "source": [
    "guess = input(\"What letter you picked?\").lower()\n",
    "print(guess)"
   ]
  },
  {
   "cell_type": "markdown",
   "metadata": {},
   "source": [
    "### TODO-3\n",
    "- Check if the letter the user guessed guess is one of the letters in the chosen_word. Loop through each of the letters in the chosen_word and print \"Right\" if the letter is a match, \"Wrong\" if it's not."
   ]
  },
  {
   "cell_type": "code",
   "execution_count": 19,
   "metadata": {},
   "outputs": [
    {
     "name": "stdout",
     "output_type": "stream",
     "text": [
      "Right\n",
      "Right\n",
      "Wrong\n",
      "Wrong\n",
      "Wrong\n",
      "Right\n",
      "Wrong\n",
      "Wrong\n"
     ]
    }
   ],
   "source": [
    "for char in chosen_word:\n",
    "    if guess == char:\n",
    "        print(\"Right\")\n",
    "    else:\n",
    "        print(\"Wrong\")"
   ]
  },
  {
   "cell_type": "markdown",
   "metadata": {},
   "source": [
    "### TODO-4\n",
    "- Create an empty String called placeholder.\n",
    "- For each letter in the chosen_word, add a _ to placeholder.\n",
    "- So if the chosen_word was \"apple\", placeholder should be _ _ _ _ _ with 5 \"_\" representing each letter to guess.\n",
    "Print out hint."
   ]
  },
  {
   "cell_type": "code",
   "execution_count": null,
   "metadata": {},
   "outputs": [
    {
     "name": "stdout",
     "output_type": "stream",
     "text": [
      "________\n"
     ]
    }
   ],
   "source": [
    "# placeholder is only used at the start to show how many letters the word has.\n",
    "placeholder = ''\n",
    "for _ in range(len(chosen_word)): # it iterates the times equal to the length of the chosen word\n",
    "    placeholder += '_' # for each iteration, it will add '_' to the empty string by +=\n",
    "print(placeholder)"
   ]
  },
  {
   "cell_type": "markdown",
   "metadata": {},
   "source": [
    "### TODO-5\n",
    "- Create an empty string called \"display\".\n",
    "- Loop through each letter in the chosen_word\n",
    "- If the letter at that position matches guess then reveal that letter in the display at that position.\n",
    "- e.g. If the user guessed \"p\" and the chosen word was \"apple\", then display should be _ p p _ _.\n",
    "- Print display and you should see the guessed letter in the correct position.\n",
    "- But every letter that is not a match is represented with a \"_\"."
   ]
  },
  {
   "cell_type": "code",
   "execution_count": null,
   "metadata": {},
   "outputs": [
    {
     "name": "stdout",
     "output_type": "stream",
     "text": [
      "aa___a__\n"
     ]
    }
   ],
   "source": [
    "# display is rebuilt every time a guess is made, revealing correct letters.\n",
    "display = ''\n",
    "for letter in chosen_word:\n",
    "    if letter == guess: \n",
    "        display += letter # append the matched letter and guess to the right position\n",
    "    else:\n",
    "        display += '_' # add the '_' to the incorrect match to ensure the length are the same with chosen word\n",
    "print(display)"
   ]
  },
  {
   "cell_type": "markdown",
   "metadata": {},
   "source": [
    "### TODO-6\n",
    "- Use a while loop to let the user guess again.\n",
    "- The loop should only stop once the user has guessed all the letters in the chosen_word.\n",
    "- At that point display has no more blanks (\"_\"). Then you can tell the user they've won."
   ]
  },
  {
   "cell_type": "code",
   "execution_count": null,
   "metadata": {},
   "outputs": [
    {
     "name": "stdout",
     "output_type": "stream",
     "text": [
      "________\n",
      "___d____\n",
      "___d____\n",
      "__rd__r_\n",
      "__rd__r_\n",
      "__rd__r_\n",
      "__rd__r_\n",
      "__rd__r_\n",
      "__rd__r_\n",
      "__rd__r_\n",
      "__rd__r_\n",
      "__rd__r_\n",
      "__rd__r_\n",
      "__rd__r_\n",
      "aard_ar_\n",
      "aardvar_\n",
      "aardvark\n",
      "Win\n"
     ]
    }
   ],
   "source": [
    "game_over = False\n",
    "correct = []\n",
    "\n",
    "while not game_over:\n",
    "    guess = input(\"What letter you picked?\").lower()\n",
    "    display = ''\n",
    "    for letter in chosen_word:\n",
    "        if letter == guess:\n",
    "            display += letter\n",
    "            correct.append(guess)\n",
    "        elif letter in correct:\n",
    "            display += letter # Update the for loop so that previous guesses are added to the display String.\n",
    "        else:\n",
    "            display += '_'\n",
    "    print(display)\n",
    "\n",
    "    if '_' not in display: # stop the while loop when condition is true.\n",
    "        game_over = True\n",
    "        print('Win')"
   ]
  },
  {
   "cell_type": "markdown",
   "metadata": {},
   "source": [
    "### TODO-7:\n",
    "- Create a variable called lives to keep track of the number of lives left.\n",
    "- Set lives to equal 6."
   ]
  },
  {
   "cell_type": "code",
   "execution_count": 29,
   "metadata": {},
   "outputs": [],
   "source": [
    "lives = 6"
   ]
  },
  {
   "cell_type": "markdown",
   "metadata": {},
   "source": [
    "### TODO-8:\n",
    "- If guess is not a letter in the chosen_word, Then reduce lives by 1.\n",
    "- If lives goes down to 0 then the game should end, and it should print \"You lose.\""
   ]
  },
  {
   "cell_type": "code",
   "execution_count": null,
   "metadata": {},
   "outputs": [],
   "source": [
    "if guess not in display:\n",
    "    lives -= 1\n",
    "    if lives == 0:\n",
    "        game_over = True\n",
    "        print('You lose.')"
   ]
  }
 ],
 "metadata": {
  "kernelspec": {
   "display_name": "ollama_env",
   "language": "python",
   "name": "python3"
  },
  "language_info": {
   "codemirror_mode": {
    "name": "ipython",
    "version": 3
   },
   "file_extension": ".py",
   "mimetype": "text/x-python",
   "name": "python",
   "nbconvert_exporter": "python",
   "pygments_lexer": "ipython3",
   "version": "3.9.19"
  }
 },
 "nbformat": 4,
 "nbformat_minor": 2
}
