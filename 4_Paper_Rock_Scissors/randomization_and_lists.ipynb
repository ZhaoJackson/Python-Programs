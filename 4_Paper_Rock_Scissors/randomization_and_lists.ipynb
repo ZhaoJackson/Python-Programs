{
 "cells": [
  {
   "cell_type": "markdown",
   "metadata": {},
   "source": [
    "### Randomization (https://docs.python.org/3/library/random.html)"
   ]
  },
  {
   "cell_type": "code",
   "execution_count": 1,
   "metadata": {},
   "outputs": [],
   "source": [
    "import random"
   ]
  },
  {
   "cell_type": "code",
   "execution_count": 14,
   "metadata": {},
   "outputs": [
    {
     "name": "stdout",
     "output_type": "stream",
     "text": [
      "6\n"
     ]
    }
   ],
   "source": [
    "# random.randint(a, b) returns a random integer N such that a <= N <= b\n",
    "random_integer = random.randint(1, 10)\n",
    "print(random_integer)"
   ]
  },
  {
   "cell_type": "code",
   "execution_count": 56,
   "metadata": {},
   "outputs": [
    {
     "name": "stdout",
     "output_type": "stream",
     "text": [
      "0.8617308386601955\n",
      "4.571324012731305\n"
     ]
    }
   ],
   "source": [
    "# random.random() returns a random floating point number N such that 0.0 <= N < 1.0\n",
    "random_number = random.random()\n",
    "print(random_number)\n",
    "\n",
    "# random() can be shifted and scaled to 1 to 9 (exclusive) by multiplying by 10\n",
    "random_number = random.random() * 10\n",
    "print(random_number)"
   ]
  },
  {
   "cell_type": "code",
   "execution_count": null,
   "metadata": {},
   "outputs": [
    {
     "name": "stdout",
     "output_type": "stream",
     "text": [
      "4.158320712692924\n"
     ]
    }
   ],
   "source": [
    "# random.uniform(a, b) returns a random floating point number N such that a <= N <= b\n",
    "random_float = random.uniform(1, 10) # it will reach 10.0 as upper bound is inclusive\n",
    "print(random_float)"
   ]
  },
  {
   "cell_type": "markdown",
   "metadata": {},
   "source": [
    "### Task 1. Heads or Tails\n",
    "- Create a coin flip program using what you have learnt about randomisation in Python. It should randomly print \"Heads\" or \"Tails\" everytime it is run."
   ]
  },
  {
   "cell_type": "code",
   "execution_count": 81,
   "metadata": {},
   "outputs": [
    {
     "name": "stdout",
     "output_type": "stream",
     "text": [
      "Tails\n"
     ]
    }
   ],
   "source": [
    "result = random.randint(0, 1)\n",
    "if result == 0:\n",
    "    print(\"Heads\")\n",
    "else:\n",
    "    print(\"Tails\")"
   ]
  },
  {
   "cell_type": "markdown",
   "metadata": {},
   "source": [
    "## List: an entity where items are stored inside (https://docs.python.org/3/tutorial/datastructures.html)\n",
    "- items in the list can be any types\n",
    "- order matters for it can be extracted via index"
   ]
  },
  {
   "cell_type": "code",
   "execution_count": 89,
   "metadata": {},
   "outputs": [
    {
     "name": "stdout",
     "output_type": "stream",
     "text": [
      "cherry\n"
     ]
    }
   ],
   "source": [
    "fruits = [\"apple\", \"banana\", \"cherry\"]\n",
    "\n",
    "# random.choice(list) returns a random element from the non-empty list\n",
    "random_fruit = random.choice(fruits)\n",
    "print(random_fruit)"
   ]
  },
  {
   "cell_type": "code",
   "execution_count": null,
   "metadata": {},
   "outputs": [],
   "source": [
    "# order of the items is set by joining date\n",
    "states_of_america = [\"Delaware\", \"Pennsylvania\", \"New Jersey\", \n",
    "                     \"Georgia\", \"Connecticut\", \"Massachusetts\", \n",
    "                     \"Maryland\", \"South Carolina\", \"New Hampshire\", \n",
    "                     \"Virginia\", \"New York\", \"North Carolina\", \n",
    "                     \"Rhode Island\", \"Vermont\", \"Kentucky\", \"Tennessee\", \n",
    "                     \"Ohio\", \"Louisiana\", \"Indiana\", \"Mississippi\", \n",
    "                     \"Illinois\", \"Alabama\", \"Maine\", \"Missouri\", \n",
    "                     \"Arkansas\", \"Michigan\", \"Florida\", \"Texas\", \n",
    "                     \"Iowa\", \"Wisconsin\", \"California\", \"Minnesota\", \n",
    "                     \"Oregon\", \"Kansas\", \"West Virginia\", \"Nevada\", \n",
    "                     \"Nebraska\", \"Colorado\", \"North Dakota\", \"South Dakota\", \n",
    "                     \"Montana\", \"Washington\", \"Idaho\", \"Wyoming\", \"Utah\", \n",
    "                     \"Oklahoma\", \"New Mexico\", \"Arizona\", \"Alaska\", \"Hawaii\"]"
   ]
  },
  {
   "cell_type": "code",
   "execution_count": 94,
   "metadata": {},
   "outputs": [
    {
     "name": "stdout",
     "output_type": "stream",
     "text": [
      "Massachusetts\n",
      "Hawaii\n"
     ]
    }
   ],
   "source": [
    "# extract 6th state that join the union\n",
    "sixth_state = states_of_america[5]\n",
    "print(sixth_state)\n",
    "\n",
    "# extract last state that join the union\n",
    "last_state = states_of_america[-1]\n",
    "print(last_state)"
   ]
  },
  {
   "cell_type": "markdown",
   "metadata": {},
   "source": [
    "### Modify list item\n",
    "- list[index] = 'new_item'"
   ]
  },
  {
   "cell_type": "code",
   "execution_count": 95,
   "metadata": {},
   "outputs": [
    {
     "name": "stdout",
     "output_type": "stream",
     "text": [
      "['apple', 'blackcurrant', 'cherry']\n"
     ]
    }
   ],
   "source": [
    "fruits = [\"apple\", \"banana\", \"cherry\"]\n",
    "\n",
    "fruits[1] = \"blackcurrant\"\n",
    "print(fruits)"
   ]
  },
  {
   "cell_type": "markdown",
   "metadata": {},
   "source": [
    "- append item to the list\n",
    "- list.append(\"\")"
   ]
  },
  {
   "cell_type": "code",
   "execution_count": 96,
   "metadata": {},
   "outputs": [
    {
     "name": "stdout",
     "output_type": "stream",
     "text": [
      "['apple', 'blackcurrant', 'cherry', 'orange']\n"
     ]
    }
   ],
   "source": [
    "fruits.append(\"orange\")\n",
    "print(fruits) "
   ]
  },
  {
   "cell_type": "markdown",
   "metadata": {},
   "source": [
    "### Task2. Figure out how to pick a random name from the list of friends."
   ]
  },
  {
   "cell_type": "code",
   "execution_count": 118,
   "metadata": {},
   "outputs": [
    {
     "name": "stdout",
     "output_type": "stream",
     "text": [
      "Simon\n",
      "Chu\n"
     ]
    }
   ],
   "source": [
    "friends = [\"Simon\", \"Patty\", \"Joy\", \"Carrie\", \"Amira\", \"Chu\"]\n",
    "\n",
    "# we can use random.choice() to pick a random friend\n",
    "random_pick = random.choice(friends)\n",
    "print(random_pick)\n",
    "\n",
    "# we can use random.randint() to pick a random index\n",
    "len_of_friends = len(friends)\n",
    "random_index = random.randint(0, len_of_friends - 1)\n",
    "random_friend = friends[random_index]\n",
    "print(random_friend)"
   ]
  },
  {
   "cell_type": "markdown",
   "metadata": {},
   "source": [
    "### IndexError\n",
    "- it is easy to obtain item outside the range\n",
    "- set the index by counting the item numbers"
   ]
  },
  {
   "cell_type": "code",
   "execution_count": 119,
   "metadata": {},
   "outputs": [
    {
     "ename": "IndexError",
     "evalue": "list index out of range",
     "output_type": "error",
     "traceback": [
      "\u001b[0;31m---------------------------------------------------------------------------\u001b[0m",
      "\u001b[0;31mIndexError\u001b[0m                                Traceback (most recent call last)",
      "Cell \u001b[0;32mIn[119], line 2\u001b[0m\n\u001b[1;32m      1\u001b[0m fruits \u001b[38;5;241m=\u001b[39m [\u001b[38;5;124m\"\u001b[39m\u001b[38;5;124mCherry\u001b[39m\u001b[38;5;124m\"\u001b[39m, \u001b[38;5;124m\"\u001b[39m\u001b[38;5;124mApple\u001b[39m\u001b[38;5;124m\"\u001b[39m, \u001b[38;5;124m\"\u001b[39m\u001b[38;5;124mPear\u001b[39m\u001b[38;5;124m\"\u001b[39m]\n\u001b[0;32m----> 2\u001b[0m \u001b[38;5;28mprint\u001b[39m(\u001b[43mfruits\u001b[49m\u001b[43m[\u001b[49m\u001b[38;5;241;43m3\u001b[39;49m\u001b[43m]\u001b[49m) \u001b[38;5;66;03m#This will be an IndexError\u001b[39;00m\n",
      "\u001b[0;31mIndexError\u001b[0m: list index out of range"
     ]
    }
   ],
   "source": [
    "fruits = [\"Cherry\", \"Apple\", \"Pear\"]\n",
    "print(fruits[3]) #This will be an IndexError"
   ]
  },
  {
   "cell_type": "code",
   "execution_count": 122,
   "metadata": {},
   "outputs": [
    {
     "name": "stdout",
     "output_type": "stream",
     "text": [
      "3\n",
      "Pear\n"
     ]
    }
   ],
   "source": [
    "fruits = [\"Cherry\", \"Apple\", \"Pear\"]\n",
    "length_of_fruits = len(fruits)\n",
    "print(length_of_fruits) # check the length of the list\n",
    "print(fruits[length_of_fruits - 1]) # print the last element"
   ]
  },
  {
   "cell_type": "markdown",
   "metadata": {},
   "source": [
    "### Nested List:\n",
    "- You can put Lists inside other Lists, this becomes something called a \"Nested List\"\n",
    "- under one list, it can contain multiple inside lists\n",
    "- treat inside lists as items, and we can use multiple index to get the single item inside a particular list"
   ]
  },
  {
   "cell_type": "code",
   "execution_count": 123,
   "metadata": {},
   "outputs": [
    {
     "name": "stdout",
     "output_type": "stream",
     "text": [
      "[['Cherry', 'Apple', 'Pear'], ['Cucumber', 'Kale', 'Spinnach']]\n"
     ]
    }
   ],
   "source": [
    "# contactenate 2 lists\n",
    "fruits = [\"Cherry\", \"Apple\", \"Pear\"]\n",
    "veg = [\"Cucumber\", \"Kale\", \"Spinnach\"]\n",
    "fruits_and_veg = [fruits, veg]\n",
    "print(fruits_and_veg)"
   ]
  },
  {
   "cell_type": "code",
   "execution_count": 124,
   "metadata": {},
   "outputs": [
    {
     "name": "stdout",
     "output_type": "stream",
     "text": [
      "Spinnach\n"
     ]
    }
   ],
   "source": [
    "# get Spinnach\n",
    "print(fruits_and_veg[1][2])"
   ]
  }
 ],
 "metadata": {
  "kernelspec": {
   "display_name": "ollama_env",
   "language": "python",
   "name": "python3"
  },
  "language_info": {
   "codemirror_mode": {
    "name": "ipython",
    "version": 3
   },
   "file_extension": ".py",
   "mimetype": "text/x-python",
   "name": "python",
   "nbconvert_exporter": "python",
   "pygments_lexer": "ipython3",
   "version": "3.9.19"
  }
 },
 "nbformat": 4,
 "nbformat_minor": 2
}
