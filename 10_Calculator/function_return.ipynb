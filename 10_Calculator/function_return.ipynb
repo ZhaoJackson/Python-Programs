{
 "cells": [
  {
   "cell_type": "markdown",
   "metadata": {},
   "source": [
    "### Function with inputs"
   ]
  },
  {
   "cell_type": "code",
   "execution_count": null,
   "metadata": {},
   "outputs": [],
   "source": [
    "def my_function(something):\n",
    "    # do this with something\n",
    "    # then do this\n",
    "    # finally do this\n",
    "\n",
    "my_function(123) # call function with inputs"
   ]
  },
  {
   "cell_type": "markdown",
   "metadata": {},
   "source": [
    "### Function with outputs\n",
    "- the function will stop execution as soon as return is encountered. If a function does not have a return statement, it returns None by default"
   ]
  },
  {
   "cell_type": "code",
   "execution_count": null,
   "metadata": {},
   "outputs": [],
   "source": [
    "def my_function(): # no inputs\n",
    "    # do this with something\n",
    "    # then do this\n",
    "    # finally do this\n",
    "    \n",
    "my_function() # call function without input"
   ]
  },
  {
   "cell_type": "markdown",
   "metadata": {},
   "source": [
    "- use return to get the whatever output from the inside function\n",
    "- whenever I call the function later and it will run the function and the statement after return will replace the function call => the output will be replaced by return statement "
   ]
  },
  {
   "cell_type": "code",
   "execution_count": null,
   "metadata": {},
   "outputs": [
    {
     "data": {
      "text/plain": [
       "6"
      ]
     },
     "execution_count": 1,
     "metadata": {},
     "output_type": "execute_result"
    }
   ],
   "source": [
    "def my_function():\n",
    "    result = 3 * 2\n",
    "    return result # result = 3 * 2, so return means operation result from inside of function\n",
    "    # we can name any variable after return that store operation result from above\n",
    "\n",
    "my_function() # the function with return can be called with any variable"
   ]
  },
  {
   "cell_type": "markdown",
   "metadata": {},
   "source": [
    "### Task 1: Create a function called format_name() that takes two inputs: f_name and `l_name' and Use the title() function to modify the f_name and l_name parameters into Title Case.\n",
    "\n",
    "#### return()\n",
    "- sends data back to the caller\n",
    "- it can be assigned to variable or reused\n",
    "- return stops function - function will not process any info after return"
   ]
  },
  {
   "cell_type": "code",
   "execution_count": null,
   "metadata": {},
   "outputs": [
    {
     "name": "stdout",
     "output_type": "stream",
     "text": [
      "Jackson Zhao\n"
     ]
    }
   ],
   "source": [
    "def format_name(f_name, l_name):\n",
    "    first = f_name.title()\n",
    "    last = l_name.title()\n",
    "    return f\"{first} {last}\" # we store the output from 2 functions into 2 variable\n",
    "    # return can call above 2 function with their variables names\n",
    "\n",
    "format_string = format_name('JACKSON', 'ZHAO') # function (format_name) processes the names and returns the result\n",
    "# returned value is saved in formatted_string and can be reused later in other functions etc.\n",
    "print(format_string) # we can print the result outside"
   ]
  },
  {
   "cell_type": "code",
   "execution_count": null,
   "metadata": {},
   "outputs": [
    {
     "name": "stdout",
     "output_type": "stream",
     "text": [
      "HELLO HELLO !\n",
      "Jackson\n",
      "Jackson Zhao Jackson Zhao !\n"
     ]
    }
   ],
   "source": [
    "def function_1(text):\n",
    "    return text + \" \" + text + \" !\"\n",
    "\n",
    "def function_2(text):\n",
    "    return text.title()\n",
    "\n",
    "output_1 = function_1(\"HELLO\") # output 1 will store the function in function_1\n",
    "print(output_1)\n",
    "\n",
    "output_2 = function_2(\"JACKSON\") # output 2 stored the title() function as a variable\n",
    "print(output_2)\n",
    "\n",
    "output_3 = function_2(function_1(\"JACKSON ZHAO\")) # reuse input in 2 functions and combine them\n",
    "print(output_3)"
   ]
  },
  {
   "cell_type": "markdown",
   "metadata": {},
   "source": [
    "#### Print()\n",
    "- it just shows info on the screen\n",
    "- it will not store the information inside the function\n",
    "- code will not continue after print"
   ]
  },
  {
   "cell_type": "code",
   "execution_count": null,
   "metadata": {},
   "outputs": [
    {
     "name": "stdout",
     "output_type": "stream",
     "text": [
      "Jackson Zhao\n"
     ]
    }
   ],
   "source": [
    "# similarly, we can use print inside the function without return\n",
    "def format_name(f_name, l_name):\n",
    "    first = f_name.title()\n",
    "    last = l_name.title()\n",
    "    print(f\"{first} {last}\")\n",
    "\n",
    "format_name('JACKSON', 'ZHAO') # function prints result directly\n",
    "# it will NOT return anything \n",
    "# the result cannot be reused later in any function"
   ]
  },
  {
   "cell_type": "markdown",
   "metadata": {},
   "source": [
    "### multiple return keyword\n",
    "- **Conditional Returns**: When we have control flow, as in the code will behave differently (go down different execution paths) depending on certain conditional checks, we can end up with multiple endings (returns).\n",
    "- it can be multiple return statement under various conditions, applicable to 'if-elif-else' statement"
   ]
  },
  {
   "cell_type": "code",
   "execution_count": null,
   "metadata": {},
   "outputs": [
    {
     "name": "stdout",
     "output_type": "stream",
     "text": [
      "Jackson Zhao\n"
     ]
    }
   ],
   "source": [
    "def format_name(f_name, l_name):\n",
    "    if f_name == \"\" or l_name == \"\": # check if first condition is met, then it will execute first return and terminate the following info\n",
    "        return # empty return will print 'None'\n",
    "    first = f_name.title()\n",
    "    last = l_name.title()\n",
    "    return f\"{first} {last}\" \n",
    "\n",
    "query = format_name(input(\"What is your first name?\"), input(\"What is your last name?\"))\n",
    "print(query)"
   ]
  },
  {
   "cell_type": "markdown",
   "metadata": {},
   "source": [
    "### Task 2: Leap Year\n",
    "- Write a program that returns True or False whether if a given year is a leap year.\n",
    "- A normal year has 365 days, leap years have 366, with an extra day in February.\n",
    "\n",
    "- This is how you work out whether if a particular year is a leap year. \n",
    "1. on every year that is divisible by 4 with no remainder\n",
    "2. except every year that is evenly divisible by 100 with no remainder \n",
    "3. unless the year is also divisible by 400 with no remainder   \n",
    "\n",
    "\n",
    "- e.g. The year 2000: \n",
    "1. 2000 ÷ 4 = 500 (Leap)  \n",
    "2. 2000 ÷ 100 = 20 (Not Leap)  \n",
    "3. 2000 ÷ 400 = 5 (Leap!)  \n",
    "4. So the year 2000 is a leap year. \n",
    "\n",
    "- But the year 2100 is not a leap year because: \n",
    "1. 2100 ÷ 4 = 525 (Leap)  \n",
    "2. 2100 ÷ 100 = 21 (Not Leap)  \n",
    "3. 2100 ÷ 400 = 5.25 (Not Leap)  \n",
    "\n",
    "- Your return should be a boolean and match the Example Output format exactly, including spelling and punctuation. "
   ]
  },
  {
   "cell_type": "code",
   "execution_count": 28,
   "metadata": {},
   "outputs": [
    {
     "name": "stdout",
     "output_type": "stream",
     "text": [
      "True\n",
      "False\n"
     ]
    }
   ],
   "source": [
    "def is_leap_year(year):\n",
    "    if (year % 4 == 0 and year % 100 != 0) or (year % 400 == 0):\n",
    "        return True\n",
    "    else:\n",
    "        return False\n",
    "\n",
    "output_1 = is_leap_year(2024)\n",
    "print(output_1)\n",
    "\n",
    "output_2 = is_leap_year(2025)\n",
    "print(output_2)"
   ]
  },
  {
   "cell_type": "markdown",
   "metadata": {},
   "source": [
    "### storing function with a variable value\n",
    "- store a reference to a function as a value to a variable"
   ]
  },
  {
   "cell_type": "code",
   "execution_count": 30,
   "metadata": {},
   "outputs": [
    {
     "data": {
      "text/plain": [
       "8"
      ]
     },
     "execution_count": 30,
     "metadata": {},
     "output_type": "execute_result"
    }
   ],
   "source": [
    "def add(n1, n2):\n",
    "    return n1 + n2\n",
    "calculation = add # here, we can only use function name without () and its inputs\n",
    "calculation(3, 5) # add is replaced with another name with calling input"
   ]
  }
 ],
 "metadata": {
  "kernelspec": {
   "display_name": "ollama_env",
   "language": "python",
   "name": "python3"
  },
  "language_info": {
   "codemirror_mode": {
    "name": "ipython",
    "version": 3
   },
   "file_extension": ".py",
   "mimetype": "text/x-python",
   "name": "python",
   "nbconvert_exporter": "python",
   "pygments_lexer": "ipython3",
   "version": "3.9.19"
  }
 },
 "nbformat": 4,
 "nbformat_minor": 2
}
