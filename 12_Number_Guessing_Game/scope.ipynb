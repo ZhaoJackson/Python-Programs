{
 "cells": [
  {
   "cell_type": "markdown",
   "id": "5ed9d911",
   "metadata": {},
   "source": [
    "## Local and Global Scope"
   ]
  },
  {
   "cell_type": "markdown",
   "id": "f44be34a",
   "metadata": {},
   "source": [
    "### Local Scope\n",
    "- Variables (or functions) declared **inside functions** have local scope (also called function scope). They are only seen by other code within the same block of code.\n",
    "- Any defined variable within the function can only be accessible inside the function. It will not be called from external function"
   ]
  },
  {
   "cell_type": "markdown",
   "id": "4616e5f2",
   "metadata": {},
   "source": [
    "### Global Scope\n",
    "- Variables or functions declared at the top level (unindented) of a code file have global scope. It is accessible anywhere in the code file.\n",
    "- any unindented function caller can call global variable"
   ]
  },
  {
   "cell_type": "code",
   "execution_count": null,
   "id": "6faa25d1",
   "metadata": {},
   "outputs": [
    {
     "name": "stdout",
     "output_type": "stream",
     "text": [
      "Enemies inside function: 2\n",
      "Enemies outside function: 1\n"
     ]
    }
   ],
   "source": [
    "enemies = 1 # This is a global variable\n",
    "\n",
    "# Local Scope\n",
    "def increase_enemies():\n",
    "    enemies = 2 # This creates a new local variable 'enemies'\n",
    "    print(\"Enemies inside function:\", enemies) # this is local variable\n",
    "increase_enemies()\n",
    "\n",
    "# Global Scope\n",
    "print(\"Enemies outside function:\", enemies) # this is the global variable"
   ]
  },
  {
   "cell_type": "markdown",
   "id": "63eb2394",
   "metadata": {},
   "source": [
    "### Block Scope\n",
    "- Python is a bit different from other programming languages in that it does not have block scope.\n",
    "- This means that variables created nested in other blocks of code e.g. for loops, if statements, while loops etc. don't get local scope. They are given function scope if they are within a function or global scope if they are not.\n",
    "- Any variable without inside function will be considered as a global scope"
   ]
  },
  {
   "cell_type": "code",
   "execution_count": null,
   "id": "cd97a806",
   "metadata": {},
   "outputs": [
    {
     "name": "stdout",
     "output_type": "stream",
     "text": [
      "Value of a: 10\n"
     ]
    }
   ],
   "source": [
    "if 3 > 2:\n",
    "    a = 10 # 'a' is defined in the global scope\n",
    "print(\"Value of a:\", a)"
   ]
  },
  {
   "cell_type": "code",
   "execution_count": null,
   "id": "9c07b89b",
   "metadata": {},
   "outputs": [
    {
     "name": "stdout",
     "output_type": "stream",
     "text": [
      "New enemy created: Skeleton\n"
     ]
    }
   ],
   "source": [
    "game_level = 3\n",
    "enemies = [\"Skeleton\", \"Zombie\", \"Alien\"]\n",
    "\n",
    "if game_level < 5:\n",
    "    new_enemy = enemies[0] # still global variable\n",
    "\n",
    "print(\"New enemy created:\", new_enemy) # This will print the first enemy in the list"
   ]
  },
  {
   "cell_type": "code",
   "execution_count": null,
   "id": "15860b7b",
   "metadata": {},
   "outputs": [
    {
     "ename": "NameError",
     "evalue": "name 'new_enemy' is not defined",
     "output_type": "error",
     "traceback": [
      "\u001b[0;31m---------------------------------------------------------------------------\u001b[0m",
      "\u001b[0;31mNameError\u001b[0m                                 Traceback (most recent call last)",
      "Cell \u001b[0;32mIn[14], line 8\u001b[0m\n\u001b[1;32m      5\u001b[0m     \u001b[38;5;28;01mif\u001b[39;00m game_level \u001b[38;5;241m<\u001b[39m \u001b[38;5;241m5\u001b[39m:\n\u001b[1;32m      6\u001b[0m         new_enemy \u001b[38;5;241m=\u001b[39m enemies[\u001b[38;5;241m0\u001b[39m]\n\u001b[0;32m----> 8\u001b[0m \u001b[38;5;28mprint\u001b[39m(\u001b[38;5;124m\"\u001b[39m\u001b[38;5;124mNew enemy created:\u001b[39m\u001b[38;5;124m\"\u001b[39m, \u001b[43mnew_enemy\u001b[49m) \u001b[38;5;66;03m# This will raise an error if called outside the function\u001b[39;00m\n",
      "\u001b[0;31mNameError\u001b[0m: name 'new_enemy' is not defined"
     ]
    }
   ],
   "source": [
    "game_level = 3\n",
    "enemies = [\"Skeleton\", \"Zombie\", \"Alien\"]\n",
    "\n",
    "def create_enemies():\n",
    "    if game_level < 5:\n",
    "        new_enemy = enemies[0] # this is local variable within the function\n",
    "\n",
    "print(\"New enemy created:\", new_enemy) # This will raise an error if called outside the function\n"
   ]
  },
  {
   "cell_type": "code",
   "execution_count": 16,
   "id": "18752451",
   "metadata": {},
   "outputs": [
    {
     "name": "stdout",
     "output_type": "stream",
     "text": [
      "New enemy created: Skeleton\n"
     ]
    }
   ],
   "source": [
    "game_level = 3\n",
    "enemies = [\"Skeleton\", \"Zombie\", \"Alien\"]\n",
    "\n",
    "def create_enemies():\n",
    "    new_enemy = \"\"\n",
    "    if game_level < 5:\n",
    "        new_enemy = enemies[0] # this is local variable within the function\n",
    "\n",
    "print(\"New enemy created:\", new_enemy) # This will raise an error if called outside the function"
   ]
  },
  {
   "cell_type": "markdown",
   "id": "4d2cd6e5",
   "metadata": {},
   "source": [
    "### Prime Number Checker\n",
    "- Prime numbers are numbers that can only be cleanly divided by themselves and 1. Wikipedia  \n",
    "\n",
    "- You need to write a function called is_prime() that checks whether if the number passed into it is a prime number or not.  It should return True or False.\n",
    "\n",
    "e.g.\n",
    "\n",
    "7 is a primer number because it is only divisible by 1 and itself.\n",
    "\n",
    "But 4 is not a prime number because you can divide it by 1, 2 or 4.\n",
    "\n",
    "NOTE: 2 is a prime number because it's only divisible by 1 and itself, but 1 is not a prime number because it is only divisible by 1."
   ]
  },
  {
   "cell_type": "code",
   "execution_count": 19,
   "id": "5d5e625d",
   "metadata": {},
   "outputs": [
    {
     "data": {
      "text/plain": [
       "False"
      ]
     },
     "execution_count": 19,
     "metadata": {},
     "output_type": "execute_result"
    }
   ],
   "source": [
    "def is_prime(num):\n",
    "    if num < 2:\n",
    "        return False # 0 and 1 are not prime numbers\n",
    "    \n",
    "    for i in range(2, num): # for range from 2 to num-1\n",
    "        if num % i == 0: # if num is divisible by any number in this range\n",
    "            return False # num is not prime and num is local variable\n",
    "        \n",
    "    # If no divisors were found, num is prime\n",
    "    return True\n",
    "\n",
    "is_prime(73)\n",
    "is_prime(75)"
   ]
  },
  {
   "cell_type": "markdown",
   "id": "493a28c9",
   "metadata": {},
   "source": [
    "### Global Variable\n",
    "- we can force code to modify something with global if you use the global keyword before you use it\n",
    "- sometimes it is not advisable to modify global value by using functions"
   ]
  },
  {
   "cell_type": "code",
   "execution_count": 23,
   "id": "dc8bc49a",
   "metadata": {},
   "outputs": [
    {
     "name": "stdout",
     "output_type": "stream",
     "text": [
      "Enemies inside function: 2\n",
      "Enemies outside function: 2\n"
     ]
    }
   ],
   "source": [
    "enemies = 1 # This is a global variable\n",
    "\n",
    "def increase_enemies():\n",
    "    global enemies # This tells Python to use the global variable 'enemies'\n",
    "    enemies += 1 # Increment the global variable\n",
    "    print(\"Enemies inside function:\", enemies) # this is the global variable\n",
    "\n",
    "increase_enemies()\n",
    "print(\"Enemies outside function:\", enemies) # this is the global variable that was modified inside the function"
   ]
  },
  {
   "cell_type": "markdown",
   "id": "a2b395ab",
   "metadata": {},
   "source": [
    "- we can set the parameter inside the function and modify the value locally with referencing global value"
   ]
  },
  {
   "cell_type": "code",
   "execution_count": 25,
   "id": "0f0dab29",
   "metadata": {},
   "outputs": [
    {
     "name": "stdout",
     "output_type": "stream",
     "text": [
      "Enemies inside function: 1\n",
      "Enemies outside function: 2\n"
     ]
    }
   ],
   "source": [
    "enemies = 1 # This is a global variable\n",
    "\n",
    "def increase_enemies(enemy):\n",
    "    print(\"Enemies inside function:\", enemies) # this is the local variable\n",
    "    return enemy + 1 # Return the incremented value\n",
    "\n",
    "enemies = increase_enemies(enemies) # Call the function and update the global variable\n",
    "print(\"Enemies outside function:\", enemies) # this is the global variable that remains unchanged"
   ]
  },
  {
   "cell_type": "markdown",
   "id": "aba81dd7",
   "metadata": {},
   "source": [
    "### Global Constant\n",
    "- You can define global constants in your code file for easy access. Their job is meant to be \"set and forget\" so you can use their values but never need to modify them.\n",
    "\n",
    "- Naming Convention: Global constants are normally declared in ALL_CAPS with a underscore in between."
   ]
  },
  {
   "cell_type": "code",
   "execution_count": null,
   "id": "2320135d",
   "metadata": {},
   "outputs": [],
   "source": [
    "PI = 3.14 # This is a global variable that we might not want to change in entire code\n",
    "\n",
    "\n"
   ]
  }
 ],
 "metadata": {
  "kernelspec": {
   "display_name": "ollama_env",
   "language": "python",
   "name": "python3"
  },
  "language_info": {
   "codemirror_mode": {
    "name": "ipython",
    "version": 3
   },
   "file_extension": ".py",
   "mimetype": "text/x-python",
   "name": "python",
   "nbconvert_exporter": "python",
   "pygments_lexer": "ipython3",
   "version": "3.9.19"
  }
 },
 "nbformat": 4,
 "nbformat_minor": 5
}
