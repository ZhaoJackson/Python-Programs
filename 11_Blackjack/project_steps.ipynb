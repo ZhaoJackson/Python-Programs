{
 "cells": [
  {
   "cell_type": "markdown",
   "id": "88aff41b",
   "metadata": {},
   "source": [
    "### Project breakdown\n",
    "1. Deal both user and computer a starting hand of 2 random card values.\n",
    "\n",
    "2. Detect when computer or user has a blackjack. (Ace + 10 value card).\n",
    "\n",
    "3. If computer gets blackjack, then the user loses (even if the user also has a blackjack). If the user gets a blackjack, then they win (unless the computer also has a blackjack).\n",
    "\n",
    "4. Calculate the user's and computer's scores based on their card values.\n",
    "\n",
    "5. If an ace is drawn, count it as 11. But if the total goes over 21, count the ace as 1 instead.\n",
    "\n",
    "6. Reveal computer's first card to the user.\n",
    "\n",
    "7. Game ends immediately when user score goes over 21 or if the user or computer gets a blackjack.\n",
    "\n",
    "8. Ask the user if they want to get another card.\n",
    "\n",
    "9. Once the user is done and no longer wants to draw any more cards, let the computer play. The computer should keep drawing cards unless their score goes over 16.\n",
    "\n",
    "10. Compare user and computer scores and see if it's a win, loss, or draw.\n",
    "\n",
    "11. Print out the player's and computer's final hand and their scores at the end of the game.\n",
    "\n",
    "12. After the game ends, ask the user if they'd like to play again. Clear the console for a fresh start."
   ]
  },
  {
   "cell_type": "markdown",
   "id": "1748eac4",
   "metadata": {},
   "source": [
    "#### Task 1: Create a deal_card() function that uses the List below to return a random card.\n",
    "- Remember that 11 is the Ace."
   ]
  },
  {
   "cell_type": "code",
   "execution_count": null,
   "id": "d38b0ecc",
   "metadata": {},
   "outputs": [],
   "source": [
    "import random\n",
    "\n",
    "def deal_card():\n",
    "    \"\"\"Returns a random card from the deck.\"\"\"\n",
    "    cards = [11, 2, 3, 4, 5, 6, 7, 8, 9, 10, 10, 10, 10]\n",
    "    card = random.choice(cards)\n",
    "    return card"
   ]
  },
  {
   "cell_type": "markdown",
   "id": "88cb2681",
   "metadata": {},
   "source": [
    "#### Task 2: Deal the user and computer 2 cards each using deal_card() and append()."
   ]
  },
  {
   "cell_type": "code",
   "execution_count": null,
   "id": "b6cd4ac7",
   "metadata": {},
   "outputs": [],
   "source": [
    "user_cards = []\n",
    "computer_cards = []\n",
    "\n",
    "for _ in range(2): # Deal two cards to each player\n",
    "    new_card = deal_card()\n",
    "    user_cards.append(new_card)\n",
    "    computer_cards.append(new_card)"
   ]
  },
  {
   "cell_type": "markdown",
   "id": "e3a56575",
   "metadata": {},
   "source": [
    "#### Task 3: Create a function called calculate_score() that takes a List of cards as input and returns the sum of all the cards in the List as the score."
   ]
  },
  {
   "cell_type": "code",
   "execution_count": 6,
   "id": "efca9405",
   "metadata": {},
   "outputs": [],
   "source": [
    "def calculate_score(cards):\n",
    "    summation = sum(cards)\n",
    "    return summation"
   ]
  },
  {
   "cell_type": "markdown",
   "id": "0188adf8",
   "metadata": {},
   "source": [
    "#### Task 4: Inside calculate_score() check for a blackjack (a hand with only 2 cards: ace + 10) and return 0 instead of the actual score. 0 will represent a blackjack in our game."
   ]
  },
  {
   "cell_type": "code",
   "execution_count": null,
   "id": "b9cc62e9",
   "metadata": {},
   "outputs": [],
   "source": [
    "def calculate_score(cards):\n",
    "    if 11 in cards and 10 in cards and len(cards) == 2:\n",
    "        return 0 # Blackjack\n",
    "    return sum(cards)"
   ]
  },
  {
   "cell_type": "markdown",
   "id": "b828262d",
   "metadata": {},
   "source": [
    "#### Task 5: Inside calculate_score() check for an 11 (ace). If the score is already over 21, remove the 11 and replace it with a 1. "
   ]
  },
  {
   "cell_type": "code",
   "execution_count": null,
   "id": "56c95cb1",
   "metadata": {},
   "outputs": [],
   "source": [
    "def calculate_score(cards):\n",
    "    if 11 in cards and sum(cards) > 21:\n",
    "        cards.remove(11)\n",
    "        cards.append(1)"
   ]
  },
  {
   "cell_type": "markdown",
   "id": "593a54e0",
   "metadata": {},
   "source": [
    "#### Task 6: Call the function calculate_score(). If the computer or the user has a blackjack (0) or if the user's score is over 21, then the game ends."
   ]
  },
  {
   "cell_type": "code",
   "execution_count": null,
   "id": "c8f712eb",
   "metadata": {},
   "outputs": [],
   "source": [
    "user_score = calculate_score(user_cards)\n",
    "computer_score = calculate_score(computer_cards)\n",
    "print(f\"Your cards: {user_cards}, current score: {user_score}\")\n",
    "print(f\"Computer's first card: {computer_cards[0]}\")\n",
    "\n",
    "is_game_over = False\n",
    "\n",
    "def calculate_score(cards):\n",
    "    if user_score == 0 or computer_score == 0 or user_score > 21:\n",
    "        is_game_over = True"
   ]
  },
  {
   "cell_type": "markdown",
   "id": "7ac7ed64",
   "metadata": {},
   "source": [
    "#### Task 7: If the game has not ended, ask the user if they want to draw another card. If yes, then use the deal_card() function to add another card to the user_cards List. If no, then the game has ended."
   ]
  },
  {
   "cell_type": "code",
   "execution_count": null,
   "id": "1392ffac",
   "metadata": {},
   "outputs": [],
   "source": [
    "def calculate_score(cards):\n",
    "    if user_score == 0 or computer_score == 0 or user_score > 21:\n",
    "        is_game_over = True\n",
    "    else:\n",
    "        user_should_deal = input(\"Type 'y' to get another card, type 'n' to pass: \")\n",
    "        if user_should_deal == 'y':\n",
    "            user_cards.append(deal_card())\n",
    "        else:\n",
    "            is_game_over = True"
   ]
  },
  {
   "cell_type": "markdown",
   "id": "a7d8e27c",
   "metadata": {},
   "source": [
    "#### Task 8: The score will need to be rechecked with every new card drawn and the checks in Task 6 need to be repeated until the game ends."
   ]
  },
  {
   "cell_type": "code",
   "execution_count": null,
   "id": "5f4e084f",
   "metadata": {},
   "outputs": [],
   "source": [
    "while not is_game_over:\n",
    "    user_score = calculate_score(user_cards)\n",
    "    computer_score = calculate_score(computer_cards)\n",
    "    print(f\"Your cards: {user_cards}, current score: {user_score}\")\n",
    "    print(f\"Computer's first card: {computer_cards[0]}\")\n",
    "\n",
    "    if user_score == 0 or computer_score == 0 or user_score > 21:\n",
    "        is_game_over = True\n",
    "    else:\n",
    "        user_should_deal = input(\"Type 'y' to get another card, type 'n' to pass: \")\n",
    "        if user_should_deal == 'y':\n",
    "            user_cards.append(deal_card())\n",
    "        else:\n",
    "            is_game_over = True"
   ]
  },
  {
   "cell_type": "markdown",
   "id": "26d3d0b8",
   "metadata": {},
   "source": [
    "#### Task 9: Once the user is done, it's time to let the computer play. The computer should keep drawing cards as long as it has a score less than 17."
   ]
  },
  {
   "cell_type": "code",
   "execution_count": null,
   "id": "2be54c6d",
   "metadata": {},
   "outputs": [],
   "source": [
    "computer_score = -1\n",
    "user_score = -1\n",
    "\n",
    "while computer_score != 0 and computer_score < 17:\n",
    "    computer_cards.append(deal_card())\n",
    "    computer_score = calculate_score(computer_cards)"
   ]
  },
  {
   "cell_type": "markdown",
   "id": "6b1ad0ae",
   "metadata": {},
   "source": [
    "#### Task 10: Create a function called compare() and pass in the user_score and computer_score.\n",
    "- If the computer and user both have the same score, then it's a draw.\n",
    "- If the computer has a blackjack (0), then the user loses.\n",
    "- If the user has a blackjack (0), then the user wins.\n",
    "- If the user_score is over 21, then the user loses.\n",
    "- If the computer_score is over 21, then the computer loses.\n",
    "- If none of the above, then the player with the highest score wins."
   ]
  },
  {
   "cell_type": "code",
   "execution_count": null,
   "id": "9b9e0f3c",
   "metadata": {},
   "outputs": [],
   "source": [
    "def compare(user_score, computer_score):\n",
    "    if user_score == computer_score:\n",
    "        return \"Draw\"\n",
    "    elif computer_score == 0:\n",
    "        return \"Lose, opponent has Blackjack\"\n",
    "    elif user_score == 0:\n",
    "        return \"Win with a Blackjack\"\n",
    "    elif user_score > 21:\n",
    "        return \"You went over. You lose\"\n",
    "    elif computer_score > 21:\n",
    "        return \"Opponent went over. You win\"\n",
    "    elif user_score > computer_score:\n",
    "        return \"You win\"\n",
    "    else:\n",
    "        return \"You lose\"\n",
    "    \n",
    "    print(f\"Your final hand: {user_cards}, final score: {user_score}\")\n",
    "    print(f\"Computer's final hand: {computer_cards}, final score: {computer_score}\")\n",
    "    print(compare(user_score, computer_score))"
   ]
  }
 ],
 "metadata": {
  "kernelspec": {
   "display_name": "ollama_env",
   "language": "python",
   "name": "python3"
  },
  "language_info": {
   "codemirror_mode": {
    "name": "ipython",
    "version": 3
   },
   "file_extension": ".py",
   "mimetype": "text/x-python",
   "name": "python",
   "nbconvert_exporter": "python",
   "pygments_lexer": "ipython3",
   "version": "3.9.19"
  }
 },
 "nbformat": 4,
 "nbformat_minor": 5
}
