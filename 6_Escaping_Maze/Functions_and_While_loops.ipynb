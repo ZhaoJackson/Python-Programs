{
 "cells": [
  {
   "cell_type": "markdown",
   "metadata": {},
   "source": [
    "### Functions (https://docs.python.org/3/library/functions.html)"
   ]
  },
  {
   "cell_type": "code",
   "execution_count": 1,
   "metadata": {},
   "outputs": [
    {
     "name": "stdout",
     "output_type": "stream",
     "text": [
      "5\n"
     ]
    }
   ],
   "source": [
    "# Built-in function: already defined object\n",
    "num_char = len(\"Hello\")\n",
    "print(num_char)"
   ]
  },
  {
   "cell_type": "markdown",
   "metadata": {},
   "source": [
    "### Make own function\n",
    "- A function in its simplest form is just a wrapper name for a block of code. \n",
    "- You give it name and then when you call the function by that name, all the code within the function block will be executed. It can help us save time and reduce repeated code"
   ]
  },
  {
   "cell_type": "code",
   "execution_count": null,
   "metadata": {},
   "outputs": [],
   "source": [
    "def functions():\n",
    "    # do this\n",
    "    # then do this\n",
    "    # finally do this # make sure everything operation is within the function \n",
    "functions() # calling the functions to execute the operations"
   ]
  },
  {
   "cell_type": "code",
   "execution_count": 2,
   "metadata": {},
   "outputs": [
    {
     "name": "stdout",
     "output_type": "stream",
     "text": [
      "5\n"
     ]
    }
   ],
   "source": [
    "def my_function():\n",
    "    num_char = len(\"Hello\")\n",
    "    print(num_char)\n",
    "my_function()"
   ]
  },
  {
   "cell_type": "markdown",
   "metadata": {},
   "source": [
    "### use Reeborg's World (https://reeborg.ca/reeborg.html?lang=en&mode=python&menu=worlds%2Fmenus%2Freeborg_intro_en.json&name=Alone&url=worlds%2Ftutorial_en%2Falone.json)"
   ]
  },
  {
   "cell_type": "code",
   "execution_count": null,
   "metadata": {},
   "outputs": [],
   "source": [
    "# create a function for turn around and make a circle\n",
    "def turn_around():\n",
    "    turn_left()\n",
    "    turn_left()\n",
    "\n",
    "move()\n",
    "move()\n",
    "turn_around()\n",
    "move()\n",
    "move()\n",
    "turn_around()"
   ]
  },
  {
   "cell_type": "code",
   "execution_count": null,
   "metadata": {},
   "outputs": [],
   "source": [
    "# Draw a square\n",
    "def turn_right():\n",
    "    turn_left()\n",
    "    turn_left()\n",
    "    turn_left()\n",
    "\n",
    "turn_left()\n",
    "move()\n",
    "turn_right()\n",
    "move()\n",
    "turn_right()\n",
    "move()\n",
    "turn_right()\n",
    "move()\n",
    "turn_right()"
   ]
  },
  {
   "cell_type": "markdown",
   "metadata": {},
   "source": [
    "### Hurdle Race 1 (https://reeborg.ca/reeborg.html?lang=en&mode=python&menu=worlds%2Fmenus%2Freeborg_intro_en.json&name=Hurdle%201&url=worlds%2Ftutorial_en%2Fhurdle1.json)"
   ]
  },
  {
   "cell_type": "code",
   "execution_count": null,
   "metadata": {},
   "outputs": [],
   "source": [
    "# Hurdle 1\n",
    "def turn_right():\n",
    "    turn_left()\n",
    "    turn_left()\n",
    "    turn_left()\n",
    "\n",
    "def jump():\n",
    "    move()\n",
    "    turn_left()\n",
    "    move()\n",
    "    turn_right()\n",
    "    move()\n",
    "    turn_right()\n",
    "    move()\n",
    "    turn_left()\n",
    "\n",
    "for _ in range(6): # 5 times of jump\n",
    "    jump()"
   ]
  },
  {
   "cell_type": "markdown",
   "metadata": {},
   "source": [
    "### Function indentation\n",
    "- everything within the function must be intended\n",
    "- outside indentation will be independent from function execution"
   ]
  },
  {
   "cell_type": "code",
   "execution_count": null,
   "metadata": {},
   "outputs": [],
   "source": [
    "def  my_function():\n",
    "    if sky == 'Clear': # if statement performs an object inside the function\n",
    "        print('blue')\n",
    "    elif sky == 'cloudy':\n",
    "        print(\"grey\")\n",
    "    print(\"hello\") # this print function is operated withint the function\n",
    "print('world') # it is independent from my_function ()"
   ]
  },
  {
   "cell_type": "markdown",
   "metadata": {},
   "source": [
    "### While Loops\n",
    "- assume the particular condition is true, it will execute the function within the loop endlessly\n",
    "- only when something becomes false, the loop will stop from there\n",
    "- it doesn't need to care on the items or numbers of items in the list by iteration\n",
    "- it mainly focus on particular functionality to perform endlessly until condition becomes false\n",
    "\n",
    "### For loops\n",
    "- it will perform the tasks within the given condition\n",
    "- it focuses on each iteration of each item and will stop at each of list item\n"
   ]
  },
  {
   "cell_type": "code",
   "execution_count": null,
   "metadata": {},
   "outputs": [],
   "source": [
    "# for loop\n",
    "for _ in range(6): # 5 times of jump\n",
    "    jump()"
   ]
  },
  {
   "cell_type": "code",
   "execution_count": null,
   "metadata": {},
   "outputs": [],
   "source": [
    "# while loop\n",
    "num_of_jump = 6\n",
    "while num_of_jump > 0: # condition is true, it will perform the following task\n",
    "    jump()\n",
    "    num_of_jump -= 1 # it ensures the while loop stops when number less than 0"
   ]
  },
  {
   "cell_type": "markdown",
   "metadata": {},
   "source": [
    "### Hurdles race 2 (https://reeborg.ca/reeborg.html?lang=en&mode=python&menu=worlds%2Fmenus%2Freeborg_intro_en.json&name=Hurdle%202&url=worlds%2Ftutorial_en%2Fhurdle2.json)\n",
    "- Reeborg has entered a hurdle race, but he does not know in advance how long the race is. Make him run the course, following a path similar to the one shown, but stopping at the only flag that will be shown after the race has started.\n",
    "- What you need to know\n",
    "- The functions move() and turn_left().\n",
    "- The condition at_goal() and its negation.\n",
    "- How to use a while loop."
   ]
  },
  {
   "cell_type": "code",
   "execution_count": null,
   "metadata": {},
   "outputs": [],
   "source": [
    "def turn_right():\n",
    "    turn_left()\n",
    "    turn_left()\n",
    "    turn_left()\n",
    "    \n",
    "def jump():\n",
    "    move()\n",
    "    turn_left()\n",
    "    move()\n",
    "    turn_right()\n",
    "    move()\n",
    "    turn_right()\n",
    "    move()\n",
    "    turn_left()\n",
    "\n",
    "while not at_goal(): # set a while loop to indicate that as long as it doesn't reach to the goal, it will keep jumping and stops when it does\n",
    "    jump()"
   ]
  },
  {
   "cell_type": "markdown",
   "metadata": {},
   "source": [
    "### Hurdle Race 3 (https://reeborg.ca/reeborg.html?lang=en&mode=python&menu=worlds%2Fmenus%2Freeborg_intro_en.json&name=Hurdle%203&url=worlds%2Ftutorial_en%2Fhurdle3.json)\n",
    "- The position and number of hurdles changes each time this world is reloaded.\n",
    "- What you need to know\n",
    "- The functions move() and turn_left().\n",
    "- The conditions front_is_clear() or wall_in_front(), at_goal(), and their negation.\n",
    "- How to use a while loop and an if statement."
   ]
  },
  {
   "cell_type": "code",
   "execution_count": null,
   "metadata": {},
   "outputs": [],
   "source": [
    "def turn_right():\n",
    "    turn_left()\n",
    "    turn_left()\n",
    "    turn_left()\n",
    "    \n",
    "def jump():\n",
    "    turn_left()\n",
    "    move()\n",
    "    turn_right()\n",
    "    move()\n",
    "    turn_right()\n",
    "    move()\n",
    "    turn_left()\n",
    "\n",
    "while not at_goal():\n",
    "    if front_is_clear(): # keep moving as long as front is clear\n",
    "        move()\n",
    "    else: # when front has wall, it will perform jump()\n",
    "        jump()"
   ]
  },
  {
   "cell_type": "markdown",
   "metadata": {},
   "source": [
    "### Hurdle Race 4 (https://reeborg.ca/reeborg.html?lang=en&mode=python&menu=worlds%2Fmenus%2Freeborg_intro_en.json&name=Hurdle%204&url=worlds%2Ftutorial_en%2Fhurdle4.json)"
   ]
  },
  {
   "cell_type": "code",
   "execution_count": null,
   "metadata": {},
   "outputs": [],
   "source": [
    "def turn_right():\n",
    "    turn_left()\n",
    "    turn_left()\n",
    "    turn_left()\n",
    "    \n",
    "def jump():\n",
    "    turn_left()\n",
    "    while wall_on_right():\n",
    "        move() # we ensure it will move forever until the condition wall on right is no longer valid\n",
    "\n",
    "    # when wall on right is no longer valid, it will execute the following code  \n",
    "    turn_right()\n",
    "    move()\n",
    "    turn_right()\n",
    "    \n",
    "    # ensure it will stop and turn once it confront the wall\n",
    "    while front_is_clear():\n",
    "        move()\n",
    "\n",
    "    # once confront the wall, it can make left\n",
    "    turn_left()\n",
    "\n",
    "while not at_goal():\n",
    "    if front_is_clear():\n",
    "        move()\n",
    "    else:\n",
    "        jump()"
   ]
  }
 ],
 "metadata": {
  "kernelspec": {
   "display_name": "ollama_env",
   "language": "python",
   "name": "python3"
  },
  "language_info": {
   "codemirror_mode": {
    "name": "ipython",
    "version": 3
   },
   "file_extension": ".py",
   "mimetype": "text/x-python",
   "name": "python",
   "nbconvert_exporter": "python",
   "pygments_lexer": "ipython3",
   "version": "3.9.19"
  }
 },
 "nbformat": 4,
 "nbformat_minor": 2
}
