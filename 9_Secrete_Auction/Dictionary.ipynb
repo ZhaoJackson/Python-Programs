{
 "cells": [
  {
   "cell_type": "markdown",
   "metadata": {},
   "source": [
    "### Dictionary\n",
    "- **{key: value}**\n",
    "- key is the tag a value that define the definition of that key\n",
    "- **{key1: value1, key2: value2}**\n",
    "- {\"Bug\": \"An error in a program\"}"
   ]
  },
  {
   "cell_type": "code",
   "execution_count": 6,
   "metadata": {},
   "outputs": [],
   "source": [
    "# Add different keys and values\n",
    "programming_dictionary = {\n",
    "    \"Bug\": \"An error in a program that prevents the program from running as expected.\",\n",
    "    \"Function\": \"A piece of code that you can easily call over and over again.\"\n",
    "}"
   ]
  },
  {
   "cell_type": "code",
   "execution_count": null,
   "metadata": {},
   "outputs": [
    {
     "name": "stdout",
     "output_type": "stream",
     "text": [
      "An error in a program that prevents the program from running as expected.\n"
     ]
    }
   ],
   "source": [
    "# Retrieve the value from dictionary\n",
    "# dict['key']\n",
    "print(programming_dictionary[\"Bug\"])"
   ]
  },
  {
   "cell_type": "code",
   "execution_count": 8,
   "metadata": {},
   "outputs": [
    {
     "name": "stdout",
     "output_type": "stream",
     "text": [
      "['Bug']\n"
     ]
    }
   ],
   "source": [
    "# Retrieve the key from dictionary\n",
    "keys = [key for key, value in programming_dictionary.items() if value == \"An error in a program that prevents the program from running as expected.\"]\n",
    "print(keys)"
   ]
  },
  {
   "cell_type": "markdown",
   "metadata": {},
   "source": [
    "#### Add a new item (key: value) in the dictionary\n",
    "- This is how you can add new items to an existing dictionary:\n",
    "- colours[\"peach\"] = \"pink"
   ]
  },
  {
   "cell_type": "code",
   "execution_count": 9,
   "metadata": {},
   "outputs": [
    {
     "name": "stdout",
     "output_type": "stream",
     "text": [
      "{'Bug': 'An error in a program that prevents the program from running as expected.', 'Function': 'A piece of code that you can easily call over and over again.', 'Loop': 'the action of doing somthing over and over again.'}\n"
     ]
    }
   ],
   "source": [
    "programming_dictionary[\"Loop\"] = \"the action of doing somthing over and over again.\"\n",
    "print(programming_dictionary)"
   ]
  },
  {
   "cell_type": "markdown",
   "metadata": {},
   "source": [
    "#### Edit the existing value"
   ]
  },
  {
   "cell_type": "code",
   "execution_count": 10,
   "metadata": {},
   "outputs": [
    {
     "name": "stdout",
     "output_type": "stream",
     "text": [
      "{'Bug': 'An error', 'Function': 'A piece of code that you can easily call over and over again.', 'Loop': 'the action of doing somthing over and over again.'}\n"
     ]
    }
   ],
   "source": [
    "programming_dictionary[\"Bug\"] = \"An error\"\n",
    "print(programming_dictionary)"
   ]
  },
  {
   "cell_type": "markdown",
   "metadata": {},
   "source": [
    "#### Create a new dictionary\n",
    "- make an empty dictionary\n",
    "- adding new items in the dictionary"
   ]
  },
  {
   "cell_type": "code",
   "execution_count": 11,
   "metadata": {},
   "outputs": [
    {
     "name": "stdout",
     "output_type": "stream",
     "text": [
      "{'apple': 'green', 'strawberry': 'red'}\n"
     ]
    }
   ],
   "source": [
    "empty_dict = {}\n",
    "empty_dict[\"apple\"] = 'green'\n",
    "empty_dict[\"strawberry\"] = 'red'\n",
    "print(empty_dict)"
   ]
  },
  {
   "cell_type": "markdown",
   "metadata": {},
   "source": [
    "#### Loop through a dictionary\n",
    "- keys\n",
    "- values"
   ]
  },
  {
   "cell_type": "code",
   "execution_count": 12,
   "metadata": {},
   "outputs": [
    {
     "name": "stdout",
     "output_type": "stream",
     "text": [
      "Bug\n",
      "Function\n",
      "Loop\n"
     ]
    }
   ],
   "source": [
    "# loop through keys\n",
    "for key in programming_dictionary:\n",
    "    print(key)"
   ]
  },
  {
   "cell_type": "code",
   "execution_count": 13,
   "metadata": {},
   "outputs": [
    {
     "name": "stdout",
     "output_type": "stream",
     "text": [
      "An error\n",
      "A piece of code that you can easily call over and over again.\n",
      "the action of doing somthing over and over again.\n"
     ]
    }
   ],
   "source": [
    "# loop through values\n",
    "for key in programming_dictionary:\n",
    "    print(programming_dictionary[key])"
   ]
  },
  {
   "cell_type": "markdown",
   "metadata": {},
   "source": [
    "### Task 1. Grading Program\n",
    "- You have access to a database of student_scores in the format of a dictionary. The keys in student_scores are the names of the students and the values are their exam scores. \n",
    "- Write a program that converts their scores to grades.\n",
    "- By the end of your program, you should have a new dictionary called student_grades that should contain student names as keys and their assessed grades for values. \n",
    "\n",
    "- The final version of the student_grades dictionary will be checked. \n",
    "- This is the scoring criteria: \n",
    "1. Scores 91 - 100: Grade = \"Outstanding\" \n",
    "2. Scores 81 - 90: Grade = \"Exceeds Expectations\" \n",
    "3. Scores 71 - 80: Grade = \"Acceptable\" \n",
    "4. Scores 70 or lower: Grade = \"Fail\" "
   ]
  },
  {
   "cell_type": "code",
   "execution_count": 14,
   "metadata": {},
   "outputs": [
    {
     "name": "stdout",
     "output_type": "stream",
     "text": [
      "{'Harry': 'Exceeds Expectations', 'Ron': 'Acceptable', 'Hermione': 'Outstanding', 'Draco': 'Acceptable', 'Neville': 'Fail'}\n"
     ]
    }
   ],
   "source": [
    "student_scores = {\n",
    "    'Harry': 88,\n",
    "    'Ron': 78,\n",
    "    'Hermione': 95,\n",
    "    'Draco': 75,\n",
    "    'Neville': 60\n",
    "}\n",
    "\n",
    "student_grades = {}\n",
    "for key in student_scores:\n",
    "    if student_scores[key] <= 70:\n",
    "        student_grades[key] = 'Fail'\n",
    "    elif student_scores[key] <= 80:\n",
    "        student_grades[key] = 'Acceptable'\n",
    "    elif student_scores[key] <= 90:\n",
    "        student_grades[key] = 'Exceeds Expectations'\n",
    "    else:\n",
    "        student_grades[key] = 'Outstanding'\n",
    "print(student_grades)"
   ]
  },
  {
   "cell_type": "markdown",
   "metadata": {},
   "source": [
    "### Nesting\n",
    "- since the value can be a data, string, list, or even dict, the value could be different and are all nested in one dict.\n",
    "\n",
    "- **{ key1: [list], key2: {dict}}**\n",
    "- get the particular list item in the dict\n",
    "- **dict[key][index]**"
   ]
  },
  {
   "cell_type": "code",
   "execution_count": 16,
   "metadata": {},
   "outputs": [
    {
     "name": "stdout",
     "output_type": "stream",
     "text": [
      "Lille\n"
     ]
    }
   ],
   "source": [
    "# Simple dictionary\n",
    "capital = {\n",
    "    \"France\": \"Paris\",\n",
    "    \"Germany\": \"Berlin\",\n",
    "}\n",
    "\n",
    "# Nested dictionary\n",
    "# if we want to include multiple values in one key, we need to use list\n",
    "travel_log = {\n",
    "    \"France\": [\"Paris\", \"Lille\", \"Dijon\"],\n",
    "    \"Germany\": [\"Stuttgart\", \"Berlin\"],\n",
    "}\n",
    "\n",
    "# Get particular item in the list\n",
    "print(travel_log[\"France\"][1])"
   ]
  },
  {
   "cell_type": "code",
   "execution_count": null,
   "metadata": {},
   "outputs": [
    {
     "name": "stdout",
     "output_type": "stream",
     "text": [
      "D\n"
     ]
    }
   ],
   "source": [
    "# get the item list in the nested list in the dict to get D\n",
    "nested_list = [\"A\", \"B\", [\"C\", \"D\"]]\n",
    "print(nested_list[2][1])"
   ]
  },
  {
   "cell_type": "code",
   "execution_count": 19,
   "metadata": {},
   "outputs": [
    {
     "name": "stdout",
     "output_type": "stream",
     "text": [
      "Stuttgart\n"
     ]
    }
   ],
   "source": [
    "# Nested dictionary\n",
    "# if we want to include a dictionary in one key, we need to use nested dictionary\n",
    "travel_log_nest = {\n",
    "    \"France\": {\n",
    "        \"cities_visited\": [\"Paris\", \"Lille\", \"Dijon\"],\n",
    "        \"total_visits\": 12\n",
    "    },\n",
    "    \"Germany\": {\n",
    "        \"cities_visited\": [\"Berlin\", \"Hamburg\", \"Stuttgart\"],\n",
    "        \"total_visits\": 5\n",
    "    },\n",
    "}\n",
    "\n",
    "# get 'Stuttgart'\n",
    "print(travel_log_nest['Germany']['cities_visited'][2])"
   ]
  },
  {
   "cell_type": "markdown",
   "metadata": {},
   "source": [
    "#### Bidder challenge"
   ]
  },
  {
   "cell_type": "markdown",
   "metadata": {},
   "source": [
    "##### TODO-1: Ask the user for input"
   ]
  },
  {
   "cell_type": "code",
   "execution_count": 20,
   "metadata": {},
   "outputs": [],
   "source": [
    "name = input(\"What is your name?\")\n",
    "price = int(input(\"What is your bid?: $\"))\n",
    "bids = {}"
   ]
  },
  {
   "cell_type": "markdown",
   "metadata": {},
   "source": [
    "##### TODO-2: Save data into dictionary {name: price}"
   ]
  },
  {
   "cell_type": "code",
   "execution_count": 21,
   "metadata": {},
   "outputs": [],
   "source": [
    "bids[name] = price"
   ]
  },
  {
   "cell_type": "markdown",
   "metadata": {},
   "source": [
    "##### TODO-3: Whether if new bids need to be added"
   ]
  },
  {
   "cell_type": "code",
   "execution_count": null,
   "metadata": {},
   "outputs": [],
   "source": [
    "continue_bidding = input(\"Are there other bidders? type yes or no\").lower()\n",
    "while continue_bidding:\n",
    "    name = input(\"What is your name?\")\n",
    "    price = int(input(\"What is your bid?: $\"))\n",
    "    bids[name] = price\n",
    "    should_continue = input(\"Are there other bidders? type yes or no\").lower()\n",
    "    if should_continue == 'no':\n",
    "        continue_bidding = False"
   ]
  },
  {
   "cell_type": "markdown",
   "metadata": {},
   "source": [
    "##### TODO-4: Compare bids in dictionary"
   ]
  },
  {
   "cell_type": "code",
   "execution_count": null,
   "metadata": {},
   "outputs": [],
   "source": [
    "def find_highest_bidder(bidding_record):\n",
    "    highest_bid = 0\n",
    "    winner = ''\n",
    "    for bidder in bidding_record:\n",
    "        bid_amount = bidding_record[bidder]\n",
    "        if bid_amount > highest_bid:\n",
    "            highest_bid = bid_amount\n",
    "            winner = bidder\n",
    "    print(f\"The winner is {winner} with highest bid{highest_bid}\")"
   ]
  }
 ],
 "metadata": {
  "kernelspec": {
   "display_name": "ollama_env",
   "language": "python",
   "name": "python3"
  },
  "language_info": {
   "codemirror_mode": {
    "name": "ipython",
    "version": 3
   },
   "file_extension": ".py",
   "mimetype": "text/x-python",
   "name": "python",
   "nbconvert_exporter": "python",
   "pygments_lexer": "ipython3",
   "version": "3.9.19"
  }
 },
 "nbformat": 4,
 "nbformat_minor": 2
}
