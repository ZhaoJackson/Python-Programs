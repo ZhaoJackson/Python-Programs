{
 "cells": [
  {
   "cell_type": "markdown",
   "id": "92bb68df",
   "metadata": {},
   "source": [
    "# Debugging process\n",
    "\n",
    "Look at the code in task.py and answer the following questions:\n",
    "\n",
    "- What is the for loop doing?\n",
    "- When is the function meant to print \"You got it\"?\n",
    "- What are your assumptions about the value of i?"
   ]
  },
  {
   "cell_type": "code",
   "execution_count": null,
   "id": "04115a4c",
   "metadata": {},
   "outputs": [],
   "source": [
    "def my_function():\n",
    "    for i in range(1, 20):\n",
    "        if i == 20:\n",
    "            print(\"You got it\")\n",
    "\n",
    "my_function() \n",
    "# for loop is to iterate through numbers 1 to 19\n",
    "# print statement will work once the loop reaches 20, but it never will since the range is 1 to 19\n",
    "# the value of i will between 1 and 19, so the print statement will never execute\n"
   ]
  },
  {
   "cell_type": "markdown",
   "id": "d9499386",
   "metadata": {},
   "source": [
    "- fix the code"
   ]
  },
  {
   "cell_type": "code",
   "execution_count": 6,
   "id": "c9b28c3e",
   "metadata": {},
   "outputs": [
    {
     "name": "stdout",
     "output_type": "stream",
     "text": [
      "You got it\n"
     ]
    }
   ],
   "source": [
    "def my_function_fixed():\n",
    "    for i in range(1, 21):  # Changed range to include 20\n",
    "        if i == 20:\n",
    "            print(\"You got it\")  # This will now execute when i is 20\n",
    "my_function_fixed()"
   ]
  },
  {
   "cell_type": "markdown",
   "id": "53a45f58",
   "metadata": {},
   "source": [
    "### Occasional bug fix\n",
    "- Some bugs are sneaky, they only occur under certain conditions. In order to debug them, we need to be able to reliably reproduce the bug and diagnose our problem to figure out which conditions trigger the bug."
   ]
  },
  {
   "cell_type": "code",
   "execution_count": null,
   "id": "1a83613c",
   "metadata": {},
   "outputs": [
    {
     "ename": "IndexError",
     "evalue": "list index out of range",
     "output_type": "error",
     "traceback": [
      "\u001b[0;31m---------------------------------------------------------------------------\u001b[0m",
      "\u001b[0;31mIndexError\u001b[0m                                Traceback (most recent call last)",
      "Cell \u001b[0;32mIn[10], line 4\u001b[0m\n\u001b[1;32m      2\u001b[0m dice_images \u001b[38;5;241m=\u001b[39m [\u001b[38;5;124m\"\u001b[39m\u001b[38;5;124m❶\u001b[39m\u001b[38;5;124m\"\u001b[39m, \u001b[38;5;124m\"\u001b[39m\u001b[38;5;124m❷\u001b[39m\u001b[38;5;124m\"\u001b[39m, \u001b[38;5;124m\"\u001b[39m\u001b[38;5;124m❸\u001b[39m\u001b[38;5;124m\"\u001b[39m, \u001b[38;5;124m\"\u001b[39m\u001b[38;5;124m❹\u001b[39m\u001b[38;5;124m\"\u001b[39m, \u001b[38;5;124m\"\u001b[39m\u001b[38;5;124m❺\u001b[39m\u001b[38;5;124m\"\u001b[39m, \u001b[38;5;124m\"\u001b[39m\u001b[38;5;124m❻\u001b[39m\u001b[38;5;124m\"\u001b[39m]\n\u001b[1;32m      3\u001b[0m dice_num \u001b[38;5;241m=\u001b[39m randint(\u001b[38;5;241m1\u001b[39m, \u001b[38;5;241m6\u001b[39m)\n\u001b[0;32m----> 4\u001b[0m \u001b[38;5;28mprint\u001b[39m(\u001b[43mdice_images\u001b[49m\u001b[43m[\u001b[49m\u001b[43mdice_num\u001b[49m\u001b[43m]\u001b[49m)\n",
      "\u001b[0;31mIndexError\u001b[0m: list index out of range"
     ]
    }
   ],
   "source": [
    "from random import randint\n",
    "dice_images = [\"❶\", \"❷\", \"❸\", \"❹\", \"❺\", \"❻\"]\n",
    "dice_num = randint(1, 6) # randint generates a random number between 1 and 6, inclusive\n",
    "print(dice_images[dice_num]) # it should be dice_num - 1 to access the correct index in the list"
   ]
  },
  {
   "cell_type": "code",
   "execution_count": null,
   "id": "8b7f51aa",
   "metadata": {},
   "outputs": [
    {
     "name": "stdout",
     "output_type": "stream",
     "text": [
      "❻\n"
     ]
    }
   ],
   "source": [
    "print(dice_images[dice_num]) # even though sometimes it will work, it is not guaranteed to always work"
   ]
  },
  {
   "cell_type": "code",
   "execution_count": 32,
   "id": "2bd7ef5c",
   "metadata": {},
   "outputs": [
    {
     "name": "stdout",
     "output_type": "stream",
     "text": [
      "❸\n"
     ]
    }
   ],
   "source": [
    "from random import randint\n",
    "dice_images = [\"❶\", \"❷\", \"❸\", \"❹\", \"❺\", \"❻\"]\n",
    "dice_num = randint(1, 6)\n",
    "print(dice_images[dice_num - 1])  # Adjusted index to be zero-based"
   ]
  },
  {
   "cell_type": "markdown",
   "id": "c79fc2d5",
   "metadata": {},
   "source": [
    "### Play computer\n",
    "- Playing computer is an important skill in debugging. You need to be able to go through your code line by line as if you were the computer to help you figure out what is going wrong."
   ]
  },
  {
   "cell_type": "code",
   "execution_count": 34,
   "id": "6d10b3bb",
   "metadata": {},
   "outputs": [
    {
     "name": "stdout",
     "output_type": "stream",
     "text": [
      "You are a millennial.\n"
     ]
    }
   ],
   "source": [
    "year = int(input(\"What's your year of birth?\"))\n",
    "\n",
    "if year > 1980 and year < 1994:\n",
    "    print(\"You are a millennial.\")\n",
    "elif year > 1994:\n",
    "    print(\"You are a Gen Z.\")\n",
    "\n",
    "# The above code does not handle the case for years before 1980 or exactly 1994.\n",
    "# the code will not print anything if the year is before 1980 or after 1994."
   ]
  },
  {
   "cell_type": "markdown",
   "id": "ab4b2c4f",
   "metadata": {},
   "source": [
    "- fix code"
   ]
  },
  {
   "cell_type": "code",
   "execution_count": 35,
   "id": "4db73dfb",
   "metadata": {},
   "outputs": [
    {
     "name": "stdout",
     "output_type": "stream",
     "text": [
      "You are a millennial.\n"
     ]
    }
   ],
   "source": [
    "year = int(input(\"What's your year of birth?\"))\n",
    "\n",
    "if year > 1980 and year <= 1994: # Adjusted condition to include 1994\n",
    "    print(\"You are a millennial.\")\n",
    "elif year > 1994:\n",
    "    print(\"You are a Gen Z.\")"
   ]
  },
  {
   "cell_type": "markdown",
   "id": "a593cc9c",
   "metadata": {},
   "source": [
    "### Fix errors\n",
    "- Fix any errors (red underlines) that show up in the editor before you run your code. The warnings (yellow) are optional fixes, sometimes it will cause a problem down the line other times it's fine and the editor just doesn't understand what you are trying to do."
   ]
  },
  {
   "cell_type": "code",
   "execution_count": null,
   "id": "7b378466",
   "metadata": {},
   "outputs": [],
   "source": [
    "age = int(input(\"How old are you?\"))\n",
    "if age > 18:\n",
    "print(\"You can drive at age {age}.\")\n",
    "\n",
    "# The above code will raise an IndentationError because the print statement is not indented correctly.\n",
    "# error will occur when user enter an age in letter but not a number\n",
    "# {age\"} will not be replaced with the value of age because it is not inside an f-string"
   ]
  },
  {
   "cell_type": "markdown",
   "id": "48ec52fa",
   "metadata": {},
   "source": [
    "### try/except block\n",
    "- You can use a try/except block in Python to catch any exceptions that might occur. \n",
    "- For example if you imagine there could be a chance of user error. You can prevent it crashing your code by anticipating it. \n",
    "- You trap the dangerous code inside a try block and use an except block to catch any potential errors. \n",
    "- Then you define what should happen when that error occurs instead of simply just crashing and stopping the code."
   ]
  },
  {
   "cell_type": "code",
   "execution_count": 40,
   "id": "4f602c21",
   "metadata": {},
   "outputs": [
    {
     "name": "stdout",
     "output_type": "stream",
     "text": [
      "You can drive at age 25\n"
     ]
    }
   ],
   "source": [
    "try: # Using try-except to handle potential ValueError when converting input to int\n",
    "    age = int(input(\"How old are you?\"))\n",
    "except ValueError: # if we try to convert a non-numeric input to an integer, it will raise a ValueError\n",
    "    print(\"Please enter a valid numerical number for age.\")\n",
    "\n",
    "if age > 18:\n",
    "    print(f\"You can drive at age {age}\")"
   ]
  },
  {
   "cell_type": "markdown",
   "id": "63d34e46",
   "metadata": {},
   "source": [
    "## Use print\n",
    "- print() is your friend. It can help expose hidden values while your code is running. In a for loop, the loop will follow some rules to perform a repeated block of code. But during the loop it's difficult to see the intermediate values, that's a perfect example of how you can use print to expose those intermediate values and help you debug your code."
   ]
  },
  {
   "cell_type": "code",
   "execution_count": 44,
   "id": "b895feb2",
   "metadata": {},
   "outputs": [
    {
     "name": "stdout",
     "output_type": "stream",
     "text": [
      "pages: 9, words per page: 0\n",
      "0\n"
     ]
    }
   ],
   "source": [
    "word_per_page = 0\n",
    "pages = int(input(\"Number of pages: \"))\n",
    "word_per_page == int(input(\"Number of words per page: \")) # use = for assignment, not == for comparison\n",
    "total_words = pages * word_per_page\n",
    "print(f\"pages: {pages}, words per page: {word_per_page}\")\n",
    "print(total_words)\n",
    "\n",
    "# The above code has a typo in the second line where it uses '==' instead of '=' to assign a value to word_per_page.\n",
    "# This will cause word_per_page to always be 0, resulting in total_words being 0."
   ]
  },
  {
   "cell_type": "markdown",
   "id": "6e0799ea",
   "metadata": {},
   "source": [
    "- fix issue"
   ]
  },
  {
   "cell_type": "code",
   "execution_count": 43,
   "id": "32c26416",
   "metadata": {},
   "outputs": [
    {
     "name": "stdout",
     "output_type": "stream",
     "text": [
      "pages: 9, words per page: 10\n",
      "90\n"
     ]
    }
   ],
   "source": [
    "word_per_page = 0\n",
    "pages = int(input(\"Number of pages: \"))\n",
    "word_per_page = int(input(\"Number of words per page: \"))\n",
    "total_words = pages * word_per_page\n",
    "print(f\"pages: {pages}, words per page: {word_per_page}\")\n",
    "print(total_words)"
   ]
  },
  {
   "cell_type": "markdown",
   "id": "5020bce1",
   "metadata": {},
   "source": [
    "## Use debugger\n",
    "- Most IDEs (Intelligent Development Environments) such as PyCharm will have built-in tools for debugging. This is normally known as the debugger. In many ways, they are like print statements on steroids.\n",
    "\n",
    "- Debuggers allows us to peek into our code during execution and pause on chosen lines to figure out what is the inner mechanism and where it's going wrong.\n",
    "\n",
    "- There are a couple of things that are the same in most IDEs which you should be familiar with:\n",
    "\n",
    "1. Breakpoint - You can set a breakpoint by clicking on a line in the gutter of the code (where the line numbers are). This line will be where the program pauses during debug run.\n",
    "\n",
    "2. Step Over - This button will go through the execution of your code line by line and allow you to view the intermediate values of your variables.\n",
    "\n",
    "3. Step Into - This will enter into any other modules that your code references. e.g. If you use a function from the random module it will show you the original code for that function so you can better understand its functionality and how it relates to your problems.\n",
    "\n",
    "4. Step Into My Code - This does the same thing as Step Into, but it limits the scope to your own project code and ignores library code such as random."
   ]
  },
  {
   "cell_type": "code",
   "execution_count": null,
   "id": "d8d089d9",
   "metadata": {},
   "outputs": [
    {
     "ename": "ModuleNotFoundError",
     "evalue": "No module named 'maths'",
     "output_type": "error",
     "traceback": [
      "\u001b[0;31m---------------------------------------------------------------------------\u001b[0m",
      "\u001b[0;31mModuleNotFoundError\u001b[0m                       Traceback (most recent call last)",
      "Cell \u001b[0;32mIn[48], line 2\u001b[0m\n\u001b[1;32m      1\u001b[0m \u001b[38;5;28;01mimport\u001b[39;00m \u001b[38;5;21;01mrandom\u001b[39;00m\n\u001b[0;32m----> 2\u001b[0m \u001b[38;5;28;01mimport\u001b[39;00m \u001b[38;5;21;01mmaths\u001b[39;00m\n\u001b[1;32m      5\u001b[0m \u001b[38;5;28;01mdef\u001b[39;00m \u001b[38;5;21mmutate\u001b[39m(a_list):\n\u001b[1;32m      6\u001b[0m     b_list \u001b[38;5;241m=\u001b[39m []\n",
      "\u001b[0;31mModuleNotFoundError\u001b[0m: No module named 'maths'"
     ]
    }
   ],
   "source": [
    "import random\n",
    "import maths # maths module is not a standard library, and it is not defined in the provided code.\n",
    "\n",
    "def mutate(a_list):\n",
    "    b_list = []\n",
    "    new_item = 0\n",
    "    for item in a_list:\n",
    "        new_item = item * 2\n",
    "        new_item += random.randint(1, 3)\n",
    "        new_item = maths.add(new_item, item)\n",
    "    b_list.append(new_item)\n",
    "    print(b_list)\n",
    "\n",
    "\n",
    "mutate([1, 2, 3, 5, 8, 13])"
   ]
  },
  {
   "cell_type": "code",
   "execution_count": 68,
   "id": "0eb1161a",
   "metadata": {},
   "outputs": [
    {
     "name": "stdout",
     "output_type": "stream",
     "text": [
      "[4, 9, 12, 16, 26, 40]\n"
     ]
    }
   ],
   "source": [
    "import random\n",
    "\n",
    "def mutate(a_list):\n",
    "    b_list = []\n",
    "    new_item = 0\n",
    "    for item in a_list:\n",
    "        new_item = item * 2\n",
    "        new_item += random.randint(1, 3)\n",
    "        new_item = new_item + item\n",
    "        b_list.append(new_item)  # Append inside the loop to collect all items\n",
    "    print(b_list)\n",
    "\n",
    "mutate([1, 2, 3, 5, 8, 13])  # Call the function with a sample list"
   ]
  },
  {
   "cell_type": "markdown",
   "id": "57b71881",
   "metadata": {},
   "source": [
    "### Debugging Odd or Even\n",
    "- Read the code in exercise.py \n",
    "- Spot the problems 🐞. \n",
    "- Modify the code to fix the program. \n",
    "- Fix the code so that it works and passes the tests when you submit."
   ]
  },
  {
   "cell_type": "code",
   "execution_count": null,
   "id": "22fcfb03",
   "metadata": {},
   "outputs": [
    {
     "ename": "SyntaxError",
     "evalue": "invalid syntax (1628498893.py, line 2)",
     "output_type": "error",
     "traceback": [
      "\u001b[0;36m  Cell \u001b[0;32mIn[69], line 2\u001b[0;36m\u001b[0m\n\u001b[0;31m    if number % 2 = 0:\u001b[0m\n\u001b[0m                  ^\u001b[0m\n\u001b[0;31mSyntaxError\u001b[0m\u001b[0;31m:\u001b[0m invalid syntax\n"
     ]
    }
   ],
   "source": [
    "def odd_or_even(number):\n",
    "    if number % 2 = 0: # The above line has a syntax error; it should use '==' for comparison, not '=' for assignment.\n",
    "        return \"This is an even number.\"\n",
    "    else:\n",
    "        return \"This is an odd number.\""
   ]
  },
  {
   "cell_type": "markdown",
   "id": "f3757d23",
   "metadata": {},
   "source": [
    "- fix issue"
   ]
  },
  {
   "cell_type": "code",
   "execution_count": 71,
   "id": "f41958df",
   "metadata": {},
   "outputs": [
    {
     "data": {
      "text/plain": [
       "'This is an even number.'"
      ]
     },
     "execution_count": 71,
     "metadata": {},
     "output_type": "execute_result"
    }
   ],
   "source": [
    "def odd_or_even(number):\n",
    "    if number % 2 == 0:\n",
    "        return \"This is an even number.\"\n",
    "    else:\n",
    "        return \"This is an odd number.\"\n",
    "odd_or_even(10)  # Example usage of the function"
   ]
  },
  {
   "cell_type": "markdown",
   "id": "aa0c340f",
   "metadata": {},
   "source": [
    "### Debugging Leap Year\n",
    "- Fix the code so that it works and when you hit submit it should pass all the tests. \n",
    "- This is how you work out whether if a particular year is a leap year.\n",
    "1. on every year that is divisible by 4 with no remainder\n",
    "2. except every year that is evenly divisible by 100 with no remainder\n",
    "3. unless the year is also divisible by 400 with no remainder"
   ]
  },
  {
   "cell_type": "code",
   "execution_count": null,
   "id": "b747be56",
   "metadata": {},
   "outputs": [],
   "source": [
    "def is_leap(year):\n",
    "    if year % 4 == 0:\n",
    "        if year % 100 == 0: \n",
    "            if year % 4000 == 0: # it should be 400, not 4000\n",
    "                return True\n",
    "            else:\n",
    "                return False\n",
    "        else:\n",
    "            return True\n",
    "    else:\n",
    "        return False\n",
    "\n",
    "# The condition for checking if a year is divisible by 4000 is incorrect; it should be 400, not 4000."
   ]
  },
  {
   "cell_type": "markdown",
   "id": "b1d3ab61",
   "metadata": {},
   "source": [
    "- fix code"
   ]
  },
  {
   "cell_type": "code",
   "execution_count": null,
   "id": "e39015d0",
   "metadata": {},
   "outputs": [
    {
     "data": {
      "text/plain": [
       "True"
      ]
     },
     "execution_count": 74,
     "metadata": {},
     "output_type": "execute_result"
    }
   ],
   "source": [
    "def is_leap(year):\n",
    "    if year % 4 == 0:\n",
    "        if year % 100 == 0: \n",
    "            if year % 400 == 0: # it should be 400, not 4000\n",
    "                return True\n",
    "            else:\n",
    "                return False\n",
    "        else:\n",
    "            return True\n",
    "    else:\n",
    "        return False\n",
    "\n",
    "is_leap(2000)"
   ]
  },
  {
   "cell_type": "markdown",
   "id": "94acd6e1",
   "metadata": {},
   "source": [
    "### Debugging FizzBuzz\n",
    "- The code needs to print the solution to the FizzBuzz game.   \n",
    "1. Your program should print each number from 1 to x where x is the input number. \n",
    "2. However when the number is divisible by 3 then instead of printing the number it should print \"Fizz\".   \n",
    "3. When the number is divisible by 5, then instead of printing the number it should print \"Buzz\". \n",
    "4. And if the number is divisible by both 3 and 5 e.g. 15 then instead of the number it should print \"FizzBuzz\"."
   ]
  },
  {
   "cell_type": "code",
   "execution_count": 76,
   "id": "5e523513",
   "metadata": {},
   "outputs": [],
   "source": [
    "# Target is the number up to which we count\n",
    "def fizz_buzz(target):\n",
    "    for number in range(1, target + 1):\n",
    "        if number % 3 == 0 and number % 5 == 0: # the condition should check both 3 and 5 instead of using or\n",
    "            print(\"FizzBuzz\")\n",
    "        if number % 3 == 0:\n",
    "            print(\"Fizz\")\n",
    "        if number % 5 == 0:\n",
    "            print(\"Buzz\")\n",
    "        else:\n",
    "            print(number)"
   ]
  }
 ],
 "metadata": {
  "kernelspec": {
   "display_name": "ollama_env",
   "language": "python",
   "name": "python3"
  },
  "language_info": {
   "codemirror_mode": {
    "name": "ipython",
    "version": 3
   },
   "file_extension": ".py",
   "mimetype": "text/x-python",
   "name": "python",
   "nbconvert_exporter": "python",
   "pygments_lexer": "ipython3",
   "version": "3.9.19"
  }
 },
 "nbformat": 4,
 "nbformat_minor": 5
}
