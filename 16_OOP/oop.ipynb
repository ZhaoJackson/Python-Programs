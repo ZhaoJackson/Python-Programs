{
 "cells": [
  {
   "cell_type": "markdown",
   "id": "860e6b66",
   "metadata": {},
   "source": [
    "## OOP (Object Oriented Programming)\n",
    "- Think of processing OOP as operating a restaurant where we need to manage different operations among different roles\n",
    "- An object has attributes (what it has) and methods (what it does)"
   ]
  },
  {
   "cell_type": "markdown",
   "id": "b061bd92",
   "metadata": {},
   "source": [
    "#### Class = Blueprint: to describe what it has\n",
    "- Class can be described as a restaurant\n",
    "- Every restaurant has a name and a cuisine type\n",
    "- Every restaurant can describe itself"
   ]
  },
  {
   "cell_type": "code",
   "execution_count": 7,
   "id": "5430beab",
   "metadata": {},
   "outputs": [],
   "source": [
    "class Restaurant: # A class to represent a restaurant\n",
    "    \"\"\"A simple model of a restaurant.\"\"\"\n",
    "    def __init__(self, name, cuisine_type): # Initialize the restaurant with a name and cuisine type\n",
    "        self.name = name # Attribute 1: Restaurant name\n",
    "        self.cuisine_type = cuisine_type # Attribute 2: Type of cuisine served\n",
    "\n",
    "    def describe(self): # Method to describe the restaurant\n",
    "        \"\"\"Prints a description of the restaurant.\"\"\"\n",
    "        print(f\"{self.name} serves {self.cuisine_type} food.\") # Prints the restaurant's name and cuisine type"
   ]
  },
  {
   "cell_type": "markdown",
   "id": "ad7db6de",
   "metadata": {},
   "source": [
    "#### Object = Real thing: to describe what it does\n",
    "- An object can be a real instance of the class\n",
    "- my_restaurant is a real restaurant\n",
    "- It's based on the restaurant class"
   ]
  },
  {
   "cell_type": "code",
   "execution_count": 8,
   "id": "347827f7",
   "metadata": {},
   "outputs": [
    {
     "name": "stdout",
     "output_type": "stream",
     "text": [
      "Tasty Bites serves Italian food.\n"
     ]
    }
   ],
   "source": [
    "my_restaurant = Restaurant(\"Tasty Bites\", \"Italian\")\n",
    "my_restaurant.describe()"
   ]
  },
  {
   "cell_type": "markdown",
   "id": "277d053d",
   "metadata": {},
   "source": [
    "### Consider waiter as an object\n",
    "1. attributes: (what waiter has and usually framed as variables)\n",
    "- is_holding_plate = True\n",
    "- tables_responsible = [4, 5, 6]\n",
    "\n",
    "2. methods: (what waiter does and usually framed as functions)\n",
    "- def take_order(table, order):\n",
    "- def take_payment(amount):\n",
    "\n",
    "### Object generation\n",
    "1. we can have multiple entities under the same same\n",
    "- this name that has multiple different entities is class\n",
    "- the multiple entities under the same class is called object.\n",
    "- waiter can be class, Tommy and Jackson serving as waiters can be objects"
   ]
  },
  {
   "cell_type": "markdown",
   "id": "ecd72ff1",
   "metadata": {},
   "source": [
    "### Turtle module"
   ]
  },
  {
   "cell_type": "code",
   "execution_count": 3,
   "id": "b19c730a",
   "metadata": {},
   "outputs": [
    {
     "name": "stdout",
     "output_type": "stream",
     "text": [
      "<turtle.Turtle object at 0x103cfc8d0>\n"
     ]
    }
   ],
   "source": [
    "# import a turtle module that already exists in python\n",
    "import turtle\n",
    "\n",
    "# Create a turtle object named timmy\n",
    "timmy = turtle.Turtle() # the module is saved in the variable turtle\n",
    "print(timmy) # timmy is an object"
   ]
  },
  {
   "cell_type": "markdown",
   "id": "dd9974e4",
   "metadata": {},
   "source": [
    "#### Object attribute\n",
    "- object.attribute: we can use attribute that associates with its object to describe what it does for that object"
   ]
  },
  {
   "cell_type": "code",
   "execution_count": 9,
   "id": "f30359e8",
   "metadata": {},
   "outputs": [
    {
     "name": "stdout",
     "output_type": "stream",
     "text": [
      "300\n"
     ]
    }
   ],
   "source": [
    "# import both turtle and Screen from the turtle classes\n",
    "from turtle import Turtle, Screen\n",
    "\n",
    "my_screen = Screen() # Create a screen object\n",
    "print(my_screen.canvheight) # Print the height of the screen canvas"
   ]
  },
  {
   "cell_type": "markdown",
   "id": "bbe69ecb",
   "metadata": {},
   "source": [
    "#### Object Methods\n",
    "- object.method(): calling a function that associates with object"
   ]
  },
  {
   "cell_type": "code",
   "execution_count": null,
   "id": "e255deeb",
   "metadata": {},
   "outputs": [],
   "source": [
    "my_screen = Screen() # Create a screen object\n",
    "my_screen.exitonclick() # Print the exit on click method of the screen\n",
    "# .exitonclick() waits for a click on the screen to exit the program\n",
    "\n",
    "timmy.forward(100) # Move the turtle forward by 100 units\n",
    "timmy.shape(\"turtle\") # Change the shape of the turtle to a turtle shape\n",
    "timmy.color(\"blue\") # Change the color of the turtle to blue"
   ]
  },
  {
   "cell_type": "markdown",
   "id": "115667b4",
   "metadata": {},
   "source": [
    "### Class and Object\n",
    "- class is blueprint of object\n",
    "- from blueprint, we can generate as many objects as we want\n",
    "\n",
    "### car and blueprint example\n",
    "- class can be written as CarBlueprint()\n",
    "- object can be written as car\n",
    "- car = CarBlueprint()\n",
    "\n",
    "### Turtle blueprint\n",
    "- there is turtle blueprint developed by others\n",
    "- we can create a object from a blueprint that others have created in main.py"
   ]
  },
  {
   "cell_type": "code",
   "execution_count": null,
   "id": "83be390b",
   "metadata": {},
   "outputs": [
    {
     "name": "stdout",
     "output_type": "stream",
     "text": [
      "<turtle.Turtle object at 0x132bc5b90>\n"
     ]
    }
   ],
   "source": [
    "# create a turtle class from pre-defined turtle class\n",
    "from turtle import Turtle, Screen\n",
    "timmy = Turtle() # Create a turtle object from Turtle class\n",
    "\n",
    "print(timmy) # Print the turtle object"
   ]
  },
  {
   "cell_type": "markdown",
   "id": "2c3ca885",
   "metadata": {},
   "source": [
    "### Object attribute\n",
    "- object.attribute to indicate the attribute from that object\n",
    "- car.speed\n",
    "- identify the object (car), from the object, get the attribute (speed)"
   ]
  },
  {
   "cell_type": "code",
   "execution_count": 17,
   "id": "c4a2f92b",
   "metadata": {},
   "outputs": [
    {
     "data": {
      "text/plain": [
       "300"
      ]
     },
     "execution_count": 17,
     "metadata": {},
     "output_type": "execute_result"
    }
   ],
   "source": [
    "# Create a screen object from Screen class\n",
    "my_screen = Screen() # Create a screen object\n",
    "my_screen.canvheight # Get the height (attribute) of the screen canvas "
   ]
  },
  {
   "cell_type": "markdown",
   "id": "b331d7ac",
   "metadata": {},
   "source": [
    "#### Object Methods\n",
    "- object.method indicate the particular methods under the object\n",
    "- car.forward()\n",
    "- forward() means the method that object can operate\n",
    "- method lib: https://docs.python.org/3/library/turtle.html"
   ]
  },
  {
   "cell_type": "code",
   "execution_count": null,
   "id": "757d8d60",
   "metadata": {},
   "outputs": [],
   "source": [
    "my_screen = Screen() # Create a screen object\n",
    "my_screen.exitonclick() # Wait for a click (method) on the screen to exit the program"
   ]
  },
  {
   "cell_type": "markdown",
   "id": "eec4fb08",
   "metadata": {},
   "source": [
    "#### Example of prettytable lib"
   ]
  },
  {
   "cell_type": "code",
   "execution_count": 30,
   "id": "607526fe",
   "metadata": {},
   "outputs": [
    {
     "name": "stdout",
     "output_type": "stream",
     "text": [
      "++\n",
      "||\n",
      "++\n",
      "++\n"
     ]
    }
   ],
   "source": [
    "from prettytable import PrettyTable\n",
    "table = PrettyTable() # Create a PrettyTable object (table) from PrettyTable class\n",
    "print(table)"
   ]
  },
  {
   "cell_type": "markdown",
   "id": "739251a4",
   "metadata": {},
   "source": [
    "#### object.method\n",
    "- add column (method) under the table object"
   ]
  },
  {
   "cell_type": "code",
   "execution_count": 31,
   "id": "fe644826",
   "metadata": {},
   "outputs": [
    {
     "name": "stdout",
     "output_type": "stream",
     "text": [
      "+--------------+----------+\n",
      "| Pokemon Name |   Type   |\n",
      "+--------------+----------+\n",
      "|   Pikachu    | Electric |\n",
      "|   Squirtle   |  Water   |\n",
      "|  Charmander  |   Fire   |\n",
      "+--------------+----------+\n"
     ]
    }
   ],
   "source": [
    "table.add_column(\"Pokemon Name\", [\"Pikachu\", \"Squirtle\", \"Charmander\"])\n",
    "table.add_column(\"Type\", [\"Electric\", \"Water\", \"Fire\"])\n",
    "print(table)"
   ]
  },
  {
   "cell_type": "markdown",
   "id": "9c0a9791",
   "metadata": {},
   "source": [
    "#### Object.attributes\n",
    "- change appearance (attributes) under the table object"
   ]
  },
  {
   "cell_type": "code",
   "execution_count": 32,
   "id": "091177a9",
   "metadata": {},
   "outputs": [
    {
     "name": "stdout",
     "output_type": "stream",
     "text": [
      "{'base_align_value': 'c', 'Pokemon Name': 'c', 'Type': 'c'}\n"
     ]
    }
   ],
   "source": [
    "print(table.align) # Default alignment is center"
   ]
  },
  {
   "cell_type": "code",
   "execution_count": 34,
   "id": "5cdadbad",
   "metadata": {},
   "outputs": [
    {
     "name": "stdout",
     "output_type": "stream",
     "text": [
      "+--------------+----------+\n",
      "| Pokemon Name | Type     |\n",
      "+--------------+----------+\n",
      "| Pikachu      | Electric |\n",
      "| Squirtle     | Water    |\n",
      "| Charmander   | Fire     |\n",
      "+--------------+----------+\n"
     ]
    }
   ],
   "source": [
    "table.align = \"l\" # Change the alignment (attribute) of the table to left\n",
    "print(table)"
   ]
  }
 ],
 "metadata": {
  "kernelspec": {
   "display_name": "ollama_env",
   "language": "python",
   "name": "python3"
  },
  "language_info": {
   "codemirror_mode": {
    "name": "ipython",
    "version": 3
   },
   "file_extension": ".py",
   "mimetype": "text/x-python",
   "name": "python",
   "nbconvert_exporter": "python",
   "pygments_lexer": "ipython3",
   "version": "3.11.13"
  }
 },
 "nbformat": 4,
 "nbformat_minor": 5
}
