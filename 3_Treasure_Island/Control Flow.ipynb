{
 "cells": [
  {
   "cell_type": "markdown",
   "metadata": {},
   "source": [
    "## If/Else Statement"
   ]
  },
  {
   "cell_type": "code",
   "execution_count": null,
   "metadata": {},
   "outputs": [],
   "source": [
    "# code structure\n",
    "# if condition():\n",
    "#     do this\n",
    "# else:\n",
    "#     do this"
   ]
  },
  {
   "cell_type": "code",
   "execution_count": null,
   "metadata": {},
   "outputs": [
    {
     "name": "stdout",
     "output_type": "stream",
     "text": [
      "Continue\n"
     ]
    }
   ],
   "source": [
    "water_level = 50\n",
    "if water_level > 80:\n",
    "    print(\"Drain Water\")\n",
    "else: # The else keyword is used to define a block of code that will execute if the condition checked in the if statement is false.\n",
    "    print(\"Continue\")"
   ]
  },
  {
   "cell_type": "markdown",
   "metadata": {},
   "source": [
    "### What if the condition is false?\n",
    "- it will move to the else statement"
   ]
  },
  {
   "cell_type": "code",
   "execution_count": null,
   "metadata": {},
   "outputs": [
    {
     "name": "stdout",
     "output_type": "stream",
     "text": [
      "Welcome to the rollercoaster!\n",
      "can do\n"
     ]
    }
   ],
   "source": [
    "print(\"Welcome to the rollercoaster!\")\n",
    "height = int(input(\"What is your height in cm? \"))\n",
    "\n",
    "if height > 180:\n",
    "    print(\"can do\") # we need indentation to define the block of code that will execute if the condition is true.\n",
    "else:\n",
    "    print(\"cannot\")"
   ]
  },
  {
   "cell_type": "markdown",
   "metadata": {},
   "source": [
    "### Comparator Operators\n",
    "\n",
    "- \"=\" is to assign the value to the right side\n",
    "- \"==\" is to check the values in both sides\n"
   ]
  },
  {
   "cell_type": "code",
   "execution_count": null,
   "metadata": {},
   "outputs": [],
   "source": [
    "# > Greater than\n",
    "# < Less than\n",
    "# >= Greater than or equal to\n",
    "# <= Less than or equal to\n",
    "# == Equal to\n",
    "# != Not equal to"
   ]
  },
  {
   "cell_type": "code",
   "execution_count": 4,
   "metadata": {},
   "outputs": [
    {
     "name": "stdout",
     "output_type": "stream",
     "text": [
      "True\n"
     ]
    }
   ],
   "source": [
    "a = 6\n",
    "print(a == 6) # True"
   ]
  },
  {
   "cell_type": "markdown",
   "metadata": {},
   "source": [
    "### Modulo Operator\n",
    "- remainder of division"
   ]
  },
  {
   "cell_type": "code",
   "execution_count": 7,
   "metadata": {},
   "outputs": [
    {
     "name": "stdout",
     "output_type": "stream",
     "text": [
      "1\n",
      "3.3333333333333335\n",
      "3\n"
     ]
    }
   ],
   "source": [
    "print(10 % 3)\n",
    "print(10 / 3)\n",
    "print(10 // 3)"
   ]
  },
  {
   "cell_type": "code",
   "execution_count": 8,
   "metadata": {},
   "outputs": [
    {
     "name": "stdout",
     "output_type": "stream",
     "text": [
      "True\n"
     ]
    }
   ],
   "source": [
    "# % will give the remainder of the division\n",
    "print(10 % 3 == 1)"
   ]
  },
  {
   "cell_type": "code",
   "execution_count": 9,
   "metadata": {},
   "outputs": [
    {
     "name": "stdout",
     "output_type": "stream",
     "text": [
      "it is even\n",
      "it is odd\n"
     ]
    }
   ],
   "source": [
    "def function(x):\n",
    "    if x % 2 == 0:\n",
    "        print(\"it is even\")\n",
    "    else:\n",
    "        print(\"it is odd\")\n",
    "\n",
    "function(4)\n",
    "function(3)"
   ]
  },
  {
   "cell_type": "markdown",
   "metadata": {},
   "source": [
    "### Task 1: Check Odd or Even\n",
    "- Write some code using what you have learnt about the modulo operator and conditional checks in Python to check if the number in he input area is odd or even. If it's odd print out the word \"Odd\" otherwise printout \"Even\"."
   ]
  },
  {
   "cell_type": "code",
   "execution_count": null,
   "metadata": {},
   "outputs": [
    {
     "name": "stdout",
     "output_type": "stream",
     "text": [
      "0.0\n",
      "even\n"
     ]
    }
   ],
   "source": [
    "number_to_check = float(input(\"what number u have in mind?\"))\n",
    "print(number_to_check % 2)\n",
    "if number_to_check % 2 == 0: # use % to check if the number is even or odd\n",
    "    print(\"even\")\n",
    "else:\n",
    "    print(\"odd\")"
   ]
  },
  {
   "cell_type": "markdown",
   "metadata": {},
   "source": [
    "### Nested If-Else statement\n",
    "- Once the first condition is passed, we can go down to check another condition that is nested under the previous verified condition\n",
    "- In the nested if statements, **A, B and C can all happen, but conditions 1, 2 and 3 must all be true**. \n",
    "- The computer will **only check condition 2 if condition 1 is true**."
   ]
  },
  {
   "cell_type": "code",
   "execution_count": null,
   "metadata": {},
   "outputs": [],
   "source": [
    "if condition1(): # if condition1 is true, it will check condition2\n",
    "    if condition2(): # if condition2 is true, A will conclude condition2\n",
    "        do A\n",
    "    else: # if condition2 is false, B will conclude condition2\n",
    "        do B\n",
    "else: # if condition1 is false, C will conclude condition1\n",
    "    do C"
   ]
  },
  {
   "cell_type": "markdown",
   "metadata": {},
   "source": [
    "### If/Elif/Else statement\n",
    "- once the first condition is not true, it will go to the next condition to verify. if true, it will stop at elif\n",
    "- In the if/elif/else block, **only one of A, B, or C can happen**, because if/elif/else are mutually exclusive. \n",
    "- The first condition has to fail to go into the elif and the elif (or multiple elif) have to fail to go into the else. Condition 2 is only checked if condition 1 is false."
   ]
  },
  {
   "cell_type": "code",
   "execution_count": null,
   "metadata": {},
   "outputs": [],
   "source": [
    "if condition1():\n",
    "    do A # if condition1 is not true, it will check condition2\n",
    "elif condition2():\n",
    "    do B # if condition2 is true, B will conclude condition2\n",
    "else: \n",
    "    do C # if both condition 1 and condition 2 are false, C will conclude at the end"
   ]
  },
  {
   "cell_type": "code",
   "execution_count": null,
   "metadata": {},
   "outputs": [],
   "source": [
    "print(\"Welcome to the rollercoaster!\")\n",
    "height = int(input(\"What is your height in cm? \"))\n",
    "age = int(input(\"what is your age?\"))\n",
    "\n",
    "if height >= 120:\n",
    "    print(\"you can ride\")\n",
    "    if age <= 15:\n",
    "        print(\"free\")\n",
    "    elif age <= 18:\n",
    "        print(\"pay $7\")\n",
    "    elif age < 20:\n",
    "            print(\"pay $10\")\n",
    "    else:\n",
    "        print(\"pay full\")\n",
    "else:\n",
    "    print(\"you cannot ride\")"
   ]
  },
  {
   "cell_type": "markdown",
   "metadata": {},
   "source": [
    "### Multiple if statement\n",
    "- each if condition is independent, therefore, there is no else statement\n",
    "- In the multiple if statements, A, B, and C can all happen. **But they are completely independent of each other.** \n",
    "- C can happen even if A and B don't. Every condition is checked, no matter the result of the others."
   ]
  },
  {
   "cell_type": "code",
   "execution_count": null,
   "metadata": {},
   "outputs": [],
   "source": [
    "if condition1():\n",
    "    do A # A will conclude condition1\n",
    "\n",
    "if condition2():\n",
    "    do B # B will conclude condition2\n",
    "\n",
    "if condition3():\n",
    "    do C # C will conclude condition3"
   ]
  },
  {
   "cell_type": "code",
   "execution_count": 15,
   "metadata": {},
   "outputs": [
    {
     "name": "stdout",
     "output_type": "stream",
     "text": [
      "Welcome to the rollercoaster!\n",
      "you can ride\n",
      "adult $12\n",
      "your total bill is $15\n"
     ]
    }
   ],
   "source": [
    "print(\"Welcome to the rollercoaster!\")\n",
    "height = int(input(\"What is your height in cm? \"))\n",
    "age = int(input(\"what is your age?\"))\n",
    "\n",
    "if height >= 120:\n",
    "    print(\"you can ride\")\n",
    "    if age <= 12:\n",
    "        bill = 5\n",
    "        print(\"child $5\")\n",
    "    elif age <= 18:\n",
    "        bill = 7\n",
    "        print(\"student $7\")\n",
    "    else:\n",
    "        bill = 12\n",
    "        print(\"adult $12\")\n",
    "    \n",
    "    wants_phote = input(\"do you want a photo taken? Y or N\").lower()\n",
    "    if wants_phote == \"y\":\n",
    "        bill += 3\n",
    "        print(f\"your total bill is ${bill}\") \n",
    "    else:\n",
    "        print(\"no photo\")\n",
    "else:\n",
    "    print(\"you cannot ride\")"
   ]
  },
  {
   "cell_type": "markdown",
   "metadata": {},
   "source": [
    "### Tasks 2. Based on a user's order, work out their final bill. Use the input() function to get a user's preferences and then add up the total for their order and tell them how much they have to pay.\n",
    "- Small pizza (S): $15\n",
    "- Medium pizza (M): $20\n",
    "- Large pizza (L): $25\n",
    "- Add pepperoni for small pizza (Y or N): +$2\n",
    "- Add pepperoni for medium or large pizza (Y or N): +$3\n",
    "- Add extra cheese for any size pizza (Y or N): +$1"
   ]
  },
  {
   "cell_type": "code",
   "execution_count": null,
   "metadata": {},
   "outputs": [
    {
     "name": "stdout",
     "output_type": "stream",
     "text": [
      "Welcome to Python Pizza Deliveries!\n",
      "Your final bill is: $28.\n"
     ]
    }
   ],
   "source": [
    "print(\"Welcome to Python Pizza Deliveries!\")\n",
    "size = input(\"What size pizza do you want? S, M or L: \").lower()\n",
    "pepperoni = input(\"Do you want pepperoni on your pizza? Y or N: \").lower()\n",
    "extra_cheese = input(\"Do you want extra cheese? Y or N: \").lower()\n",
    "\n",
    "# todo: work out how much they need to pay based on their size choice.\n",
    "bill = 0\n",
    "if size == \"s\":\n",
    "    bill += 15\n",
    "elif size == \"m\":\n",
    "    bill += 20\n",
    "elif size == \"l\":\n",
    "    bill += 25\n",
    "else:\n",
    "    bill += 0\n",
    "    print(\"invalid size\")\n",
    "\n",
    "# todo: work out how much to add to their bill based on their pepperoni choice.\n",
    "if pepperoni == \"y\":\n",
    "    if size == \"s\":\n",
    "        bill += 2\n",
    "    else:\n",
    "        bill += 3\n",
    "\n",
    "# todo: work out their final amount based on whether if they want extra cheese.\n",
    "if extra_cheese == \"Y\":\n",
    "    bill += 1\n",
    "\n",
    "print(f\"Your final bill is: ${bill}.\")"
   ]
  },
  {
   "cell_type": "markdown",
   "metadata": {},
   "source": [
    "### Combine multiple conditions under same if statement\n",
    "1. A and B: Both should be true, then result true.\n",
    "2. C or D: Either C or D is true, then result true.\n",
    "3. not E: negation of E (not false is true, not true is false)"
   ]
  },
  {
   "cell_type": "markdown",
   "metadata": {},
   "source": [
    "### Task 3. Age 45 to 55 Modifier\n",
    "- Update the code so that people age 45 to 55 (inclusive of both ages) ride for free. Use logical operators to check that the age is greater than 45, and it's also less than 55."
   ]
  },
  {
   "cell_type": "code",
   "execution_count": 18,
   "metadata": {},
   "outputs": [
    {
     "name": "stdout",
     "output_type": "stream",
     "text": [
      "Welcome to the rollercoaster!\n",
      "you can ride\n",
      "everything is going to be ok. have a free ride on us\n",
      "your total bill is $3\n"
     ]
    }
   ],
   "source": [
    "print(\"Welcome to the rollercoaster!\")\n",
    "height = int(input(\"What is your height in cm? \"))\n",
    "age = int(input(\"what is your age?\"))\n",
    "\n",
    "if height >= 120:\n",
    "    print(\"you can ride\")\n",
    "    if age <= 12:\n",
    "        bill = 5\n",
    "        print(\"child $5\")\n",
    "    elif age <= 18:\n",
    "        bill = 7\n",
    "        print(\"student $7\")\n",
    "    elif age >= 45 and age <= 55:\n",
    "        bill = 0\n",
    "        print(\"everything is going to be ok. have a free ride on us\")\n",
    "    else:\n",
    "        bill = 12\n",
    "        print(\"adult $12\")\n",
    "    \n",
    "    wants_phote = input(\"do you want a photo taken? Y or N\").lower()\n",
    "    if wants_phote == \"y\":\n",
    "        bill += 3\n",
    "        print(f\"your total bill is ${bill}\") \n",
    "    else:\n",
    "        print(\"no photo\")\n",
    "else:\n",
    "    print(\"you cannot ride\")"
   ]
  }
 ],
 "metadata": {
  "kernelspec": {
   "display_name": "ollama_env",
   "language": "python",
   "name": "python3"
  },
  "language_info": {
   "codemirror_mode": {
    "name": "ipython",
    "version": 3
   },
   "file_extension": ".py",
   "mimetype": "text/x-python",
   "name": "python",
   "nbconvert_exporter": "python",
   "pygments_lexer": "ipython3",
   "version": "3.9.19"
  }
 },
 "nbformat": 4,
 "nbformat_minor": 2
}
